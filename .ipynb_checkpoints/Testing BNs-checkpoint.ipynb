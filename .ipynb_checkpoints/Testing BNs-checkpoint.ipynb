{
 "cells": [
  {
   "cell_type": "code",
   "execution_count": 3,
   "id": "9dbaaf52",
   "metadata": {},
   "outputs": [],
   "source": [
    "import numpy as np\n",
    "import pandas as pd\n",
    "from sklearn import svm, model_selection, preprocessing, pipeline, impute, feature_selection\n",
    "from sklearn.experimental import enable_iterative_imputer\n",
    "from itertools import chain, combinations, product\n",
    "import math\n",
    "import time\n",
    "\n",
    "import warnings\n",
    "from sklearn.exceptions import DataConversionWarning\n",
    "warnings.filterwarnings(action='ignore', category=UserWarning)\n",
    "\n",
    "\n",
    "import pyAgrum as gum\n",
    "import pyAgrum.lib.notebook as gnb\n",
    "\n",
    "%matplotlib inline\n",
    "from pyAgrum.lib.bn2roc import showROC\n",
    "from pyAgrum.lib.bn2roc import showPR\n",
    "from pyAgrum.lib.bn2roc import showROC_PR\n",
    "\n",
    "import networkx as nx\n",
    "import graphviz"
   ]
  },
  {
   "cell_type": "code",
   "execution_count": 4,
   "id": "c3b89624",
   "metadata": {},
   "outputs": [
    {
     "data": {
      "text/html": [
       "<div>\n",
       "<style scoped>\n",
       "    .dataframe tbody tr th:only-of-type {\n",
       "        vertical-align: middle;\n",
       "    }\n",
       "\n",
       "    .dataframe tbody tr th {\n",
       "        vertical-align: top;\n",
       "    }\n",
       "\n",
       "    .dataframe thead th {\n",
       "        text-align: right;\n",
       "    }\n",
       "</style>\n",
       "<table border=\"1\" class=\"dataframe\">\n",
       "  <thead>\n",
       "    <tr style=\"text-align: right;\">\n",
       "      <th></th>\n",
       "      <th>GoodStudent</th>\n",
       "      <th>Age</th>\n",
       "      <th>SocioEcon</th>\n",
       "      <th>RiskAversion</th>\n",
       "      <th>VehicleYear</th>\n",
       "      <th>ThisCarDam</th>\n",
       "      <th>RuggedAuto</th>\n",
       "      <th>Accident</th>\n",
       "      <th>MakeModel</th>\n",
       "      <th>DrivQuality</th>\n",
       "      <th>...</th>\n",
       "      <th>HomeBase</th>\n",
       "      <th>AntiTheft</th>\n",
       "      <th>PropCost</th>\n",
       "      <th>OtherCarCost</th>\n",
       "      <th>OtherCar</th>\n",
       "      <th>MedCost</th>\n",
       "      <th>Cushioning</th>\n",
       "      <th>Airbag</th>\n",
       "      <th>ILiCost</th>\n",
       "      <th>DrivHist</th>\n",
       "    </tr>\n",
       "  </thead>\n",
       "  <tbody>\n",
       "    <tr>\n",
       "      <th>0</th>\n",
       "      <td>False</td>\n",
       "      <td>Adult</td>\n",
       "      <td>Prole</td>\n",
       "      <td>Adventurous</td>\n",
       "      <td>Older</td>\n",
       "      <td>Moderate</td>\n",
       "      <td>EggShell</td>\n",
       "      <td>Mild</td>\n",
       "      <td>Economy</td>\n",
       "      <td>Poor</td>\n",
       "      <td>...</td>\n",
       "      <td>City</td>\n",
       "      <td>False</td>\n",
       "      <td>TenThou</td>\n",
       "      <td>Thousand</td>\n",
       "      <td>True</td>\n",
       "      <td>Thousand</td>\n",
       "      <td>Poor</td>\n",
       "      <td>False</td>\n",
       "      <td>Thousand</td>\n",
       "      <td>Many</td>\n",
       "    </tr>\n",
       "    <tr>\n",
       "      <th>1</th>\n",
       "      <td>False</td>\n",
       "      <td>Senior</td>\n",
       "      <td>Prole</td>\n",
       "      <td>Cautious</td>\n",
       "      <td>Current</td>\n",
       "      <td>None</td>\n",
       "      <td>Football</td>\n",
       "      <td>None</td>\n",
       "      <td>Economy</td>\n",
       "      <td>Normal</td>\n",
       "      <td>...</td>\n",
       "      <td>City</td>\n",
       "      <td>True</td>\n",
       "      <td>Thousand</td>\n",
       "      <td>Thousand</td>\n",
       "      <td>True</td>\n",
       "      <td>Thousand</td>\n",
       "      <td>Good</td>\n",
       "      <td>True</td>\n",
       "      <td>Thousand</td>\n",
       "      <td>Zero</td>\n",
       "    </tr>\n",
       "    <tr>\n",
       "      <th>2</th>\n",
       "      <td>False</td>\n",
       "      <td>Senior</td>\n",
       "      <td>UpperMiddle</td>\n",
       "      <td>Psychopath</td>\n",
       "      <td>Current</td>\n",
       "      <td>None</td>\n",
       "      <td>Football</td>\n",
       "      <td>None</td>\n",
       "      <td>FamilySedan</td>\n",
       "      <td>Excellent</td>\n",
       "      <td>...</td>\n",
       "      <td>City</td>\n",
       "      <td>False</td>\n",
       "      <td>Thousand</td>\n",
       "      <td>Thousand</td>\n",
       "      <td>False</td>\n",
       "      <td>Thousand</td>\n",
       "      <td>Good</td>\n",
       "      <td>True</td>\n",
       "      <td>Thousand</td>\n",
       "      <td>One</td>\n",
       "    </tr>\n",
       "    <tr>\n",
       "      <th>3</th>\n",
       "      <td>False</td>\n",
       "      <td>Adolescent</td>\n",
       "      <td>Middle</td>\n",
       "      <td>Normal</td>\n",
       "      <td>Older</td>\n",
       "      <td>None</td>\n",
       "      <td>EggShell</td>\n",
       "      <td>None</td>\n",
       "      <td>Economy</td>\n",
       "      <td>Normal</td>\n",
       "      <td>...</td>\n",
       "      <td>Suburb</td>\n",
       "      <td>False</td>\n",
       "      <td>Thousand</td>\n",
       "      <td>Thousand</td>\n",
       "      <td>True</td>\n",
       "      <td>Thousand</td>\n",
       "      <td>Fair</td>\n",
       "      <td>False</td>\n",
       "      <td>Thousand</td>\n",
       "      <td>Zero</td>\n",
       "    </tr>\n",
       "    <tr>\n",
       "      <th>4</th>\n",
       "      <td>False</td>\n",
       "      <td>Adolescent</td>\n",
       "      <td>Prole</td>\n",
       "      <td>Normal</td>\n",
       "      <td>Older</td>\n",
       "      <td>Moderate</td>\n",
       "      <td>Football</td>\n",
       "      <td>Moderate</td>\n",
       "      <td>Economy</td>\n",
       "      <td>Poor</td>\n",
       "      <td>...</td>\n",
       "      <td>City</td>\n",
       "      <td>False</td>\n",
       "      <td>TenThou</td>\n",
       "      <td>Thousand</td>\n",
       "      <td>False</td>\n",
       "      <td>Thousand</td>\n",
       "      <td>Fair</td>\n",
       "      <td>False</td>\n",
       "      <td>Thousand</td>\n",
       "      <td>Many</td>\n",
       "    </tr>\n",
       "    <tr>\n",
       "      <th>...</th>\n",
       "      <td>...</td>\n",
       "      <td>...</td>\n",
       "      <td>...</td>\n",
       "      <td>...</td>\n",
       "      <td>...</td>\n",
       "      <td>...</td>\n",
       "      <td>...</td>\n",
       "      <td>...</td>\n",
       "      <td>...</td>\n",
       "      <td>...</td>\n",
       "      <td>...</td>\n",
       "      <td>...</td>\n",
       "      <td>...</td>\n",
       "      <td>...</td>\n",
       "      <td>...</td>\n",
       "      <td>...</td>\n",
       "      <td>...</td>\n",
       "      <td>...</td>\n",
       "      <td>...</td>\n",
       "      <td>...</td>\n",
       "      <td>...</td>\n",
       "    </tr>\n",
       "    <tr>\n",
       "      <th>19995</th>\n",
       "      <td>False</td>\n",
       "      <td>Adult</td>\n",
       "      <td>Prole</td>\n",
       "      <td>Adventurous</td>\n",
       "      <td>Older</td>\n",
       "      <td>Mild</td>\n",
       "      <td>Football</td>\n",
       "      <td>Mild</td>\n",
       "      <td>Economy</td>\n",
       "      <td>Poor</td>\n",
       "      <td>...</td>\n",
       "      <td>City</td>\n",
       "      <td>False</td>\n",
       "      <td>Thousand</td>\n",
       "      <td>Thousand</td>\n",
       "      <td>True</td>\n",
       "      <td>Thousand</td>\n",
       "      <td>Fair</td>\n",
       "      <td>False</td>\n",
       "      <td>Thousand</td>\n",
       "      <td>Many</td>\n",
       "    </tr>\n",
       "    <tr>\n",
       "      <th>19996</th>\n",
       "      <td>False</td>\n",
       "      <td>Adult</td>\n",
       "      <td>Middle</td>\n",
       "      <td>Normal</td>\n",
       "      <td>Older</td>\n",
       "      <td>None</td>\n",
       "      <td>Tank</td>\n",
       "      <td>None</td>\n",
       "      <td>FamilySedan</td>\n",
       "      <td>Normal</td>\n",
       "      <td>...</td>\n",
       "      <td>Suburb</td>\n",
       "      <td>False</td>\n",
       "      <td>Thousand</td>\n",
       "      <td>Thousand</td>\n",
       "      <td>True</td>\n",
       "      <td>Thousand</td>\n",
       "      <td>Good</td>\n",
       "      <td>False</td>\n",
       "      <td>Thousand</td>\n",
       "      <td>Zero</td>\n",
       "    </tr>\n",
       "    <tr>\n",
       "      <th>19997</th>\n",
       "      <td>False</td>\n",
       "      <td>Senior</td>\n",
       "      <td>UpperMiddle</td>\n",
       "      <td>Normal</td>\n",
       "      <td>Current</td>\n",
       "      <td>None</td>\n",
       "      <td>Football</td>\n",
       "      <td>None</td>\n",
       "      <td>Luxury</td>\n",
       "      <td>Excellent</td>\n",
       "      <td>...</td>\n",
       "      <td>Secure</td>\n",
       "      <td>True</td>\n",
       "      <td>TenThou</td>\n",
       "      <td>Thousand</td>\n",
       "      <td>False</td>\n",
       "      <td>Thousand</td>\n",
       "      <td>Excellent</td>\n",
       "      <td>True</td>\n",
       "      <td>Thousand</td>\n",
       "      <td>Zero</td>\n",
       "    </tr>\n",
       "    <tr>\n",
       "      <th>19998</th>\n",
       "      <td>False</td>\n",
       "      <td>Adult</td>\n",
       "      <td>Middle</td>\n",
       "      <td>Normal</td>\n",
       "      <td>Older</td>\n",
       "      <td>None</td>\n",
       "      <td>Football</td>\n",
       "      <td>None</td>\n",
       "      <td>FamilySedan</td>\n",
       "      <td>Excellent</td>\n",
       "      <td>...</td>\n",
       "      <td>Suburb</td>\n",
       "      <td>False</td>\n",
       "      <td>Thousand</td>\n",
       "      <td>Thousand</td>\n",
       "      <td>True</td>\n",
       "      <td>Thousand</td>\n",
       "      <td>Good</td>\n",
       "      <td>True</td>\n",
       "      <td>Thousand</td>\n",
       "      <td>Zero</td>\n",
       "    </tr>\n",
       "    <tr>\n",
       "      <th>19999</th>\n",
       "      <td>False</td>\n",
       "      <td>Adult</td>\n",
       "      <td>Middle</td>\n",
       "      <td>Normal</td>\n",
       "      <td>Older</td>\n",
       "      <td>None</td>\n",
       "      <td>Tank</td>\n",
       "      <td>None</td>\n",
       "      <td>FamilySedan</td>\n",
       "      <td>Excellent</td>\n",
       "      <td>...</td>\n",
       "      <td>Secure</td>\n",
       "      <td>False</td>\n",
       "      <td>Thousand</td>\n",
       "      <td>Thousand</td>\n",
       "      <td>True</td>\n",
       "      <td>Thousand</td>\n",
       "      <td>Excellent</td>\n",
       "      <td>True</td>\n",
       "      <td>Thousand</td>\n",
       "      <td>Zero</td>\n",
       "    </tr>\n",
       "  </tbody>\n",
       "</table>\n",
       "<p>20000 rows × 27 columns</p>\n",
       "</div>"
      ],
      "text/plain": [
       "       GoodStudent         Age    SocioEcon RiskAversion VehicleYear  \\\n",
       "0            False       Adult        Prole  Adventurous       Older   \n",
       "1            False      Senior        Prole     Cautious     Current   \n",
       "2            False      Senior  UpperMiddle   Psychopath     Current   \n",
       "3            False  Adolescent       Middle       Normal       Older   \n",
       "4            False  Adolescent        Prole       Normal       Older   \n",
       "...            ...         ...          ...          ...         ...   \n",
       "19995        False       Adult        Prole  Adventurous       Older   \n",
       "19996        False       Adult       Middle       Normal       Older   \n",
       "19997        False      Senior  UpperMiddle       Normal     Current   \n",
       "19998        False       Adult       Middle       Normal       Older   \n",
       "19999        False       Adult       Middle       Normal       Older   \n",
       "\n",
       "      ThisCarDam RuggedAuto  Accident    MakeModel DrivQuality  ... HomeBase  \\\n",
       "0       Moderate   EggShell      Mild      Economy        Poor  ...     City   \n",
       "1           None   Football      None      Economy      Normal  ...     City   \n",
       "2           None   Football      None  FamilySedan   Excellent  ...     City   \n",
       "3           None   EggShell      None      Economy      Normal  ...   Suburb   \n",
       "4       Moderate   Football  Moderate      Economy        Poor  ...     City   \n",
       "...          ...        ...       ...          ...         ...  ...      ...   \n",
       "19995       Mild   Football      Mild      Economy        Poor  ...     City   \n",
       "19996       None       Tank      None  FamilySedan      Normal  ...   Suburb   \n",
       "19997       None   Football      None       Luxury   Excellent  ...   Secure   \n",
       "19998       None   Football      None  FamilySedan   Excellent  ...   Suburb   \n",
       "19999       None       Tank      None  FamilySedan   Excellent  ...   Secure   \n",
       "\n",
       "       AntiTheft  PropCost  OtherCarCost OtherCar   MedCost Cushioning Airbag  \\\n",
       "0          False   TenThou      Thousand     True  Thousand       Poor  False   \n",
       "1           True  Thousand      Thousand     True  Thousand       Good   True   \n",
       "2          False  Thousand      Thousand    False  Thousand       Good   True   \n",
       "3          False  Thousand      Thousand     True  Thousand       Fair  False   \n",
       "4          False   TenThou      Thousand    False  Thousand       Fair  False   \n",
       "...          ...       ...           ...      ...       ...        ...    ...   \n",
       "19995      False  Thousand      Thousand     True  Thousand       Fair  False   \n",
       "19996      False  Thousand      Thousand     True  Thousand       Good  False   \n",
       "19997       True   TenThou      Thousand    False  Thousand  Excellent   True   \n",
       "19998      False  Thousand      Thousand     True  Thousand       Good   True   \n",
       "19999      False  Thousand      Thousand     True  Thousand  Excellent   True   \n",
       "\n",
       "        ILiCost DrivHist  \n",
       "0      Thousand     Many  \n",
       "1      Thousand     Zero  \n",
       "2      Thousand      One  \n",
       "3      Thousand     Zero  \n",
       "4      Thousand     Many  \n",
       "...         ...      ...  \n",
       "19995  Thousand     Many  \n",
       "19996  Thousand     Zero  \n",
       "19997  Thousand     Zero  \n",
       "19998  Thousand     Zero  \n",
       "19999  Thousand     Zero  \n",
       "\n",
       "[20000 rows x 27 columns]"
      ]
     },
     "execution_count": 4,
     "metadata": {},
     "output_type": "execute_result"
    }
   ],
   "source": [
    "data = pd.read_csv(\"insurance.csv\")\n",
    "data"
   ]
  },
  {
   "cell_type": "code",
   "execution_count": 5,
   "id": "cf996c7c",
   "metadata": {},
   "outputs": [],
   "source": [
    "#X = data[data.columns.drop([\"RiskAversion\", \"Accident\"])]\n",
    "#y = data[[\"RiskAversion\", \"Accident\"]]\n",
    "\n",
    "X = data[data.columns.drop(\"Accident\")]\n",
    "y = data[\"Accident\"]\n",
    "\n",
    "X_train, X_test, y_train, y_test = model_selection.train_test_split(X, y)"
   ]
  },
  {
   "cell_type": "code",
   "execution_count": 6,
   "id": "e2a3a06f",
   "metadata": {},
   "outputs": [],
   "source": [
    "app = X_train.copy()\n",
    "app[\"Accident\"] = y_train\n",
    "\n",
    "learner=gum.BNLearner(app)\n",
    "\n",
    "bn = learner.learnBN()\n",
    "\n",
    "#bn=learner.useSmoothingPrior().useLocalSearchWithTabuList().useScoreBIC().learnBN()\n"
   ]
  },
  {
   "cell_type": "code",
   "execution_count": 7,
   "id": "78e930f0",
   "metadata": {},
   "outputs": [
    {
     "ename": "FileNotFoundError",
     "evalue": "[Errno 2] \"dot\" not found in path.",
     "output_type": "error",
     "traceback": [
      "\u001b[0;31m---------------------------------------------------------------------------\u001b[0m",
      "\u001b[0;31mFileNotFoundError\u001b[0m                         Traceback (most recent call last)",
      "\u001b[0;32m~/anaconda3/lib/python3.8/site-packages/pydot.py\u001b[0m in \u001b[0;36mcreate\u001b[0;34m(self, prog, format, encoding)\u001b[0m\n\u001b[1;32m   1922\u001b[0m         \u001b[0;32mtry\u001b[0m\u001b[0;34m:\u001b[0m\u001b[0;34m\u001b[0m\u001b[0;34m\u001b[0m\u001b[0m\n\u001b[0;32m-> 1923\u001b[0;31m             stdout_data, stderr_data, process = call_graphviz(\n\u001b[0m\u001b[1;32m   1924\u001b[0m                 \u001b[0mprogram\u001b[0m\u001b[0;34m=\u001b[0m\u001b[0mprog\u001b[0m\u001b[0;34m,\u001b[0m\u001b[0;34m\u001b[0m\u001b[0;34m\u001b[0m\u001b[0m\n",
      "\u001b[0;32m~/anaconda3/lib/python3.8/site-packages/pydot.py\u001b[0m in \u001b[0;36mcall_graphviz\u001b[0;34m(program, arguments, working_dir, **kwargs)\u001b[0m\n\u001b[1;32m    131\u001b[0m \u001b[0;34m\u001b[0m\u001b[0m\n\u001b[0;32m--> 132\u001b[0;31m     process = subprocess.Popen(\n\u001b[0m\u001b[1;32m    133\u001b[0m         \u001b[0mprogram_with_args\u001b[0m\u001b[0;34m,\u001b[0m\u001b[0;34m\u001b[0m\u001b[0;34m\u001b[0m\u001b[0m\n",
      "\u001b[0;32m~/anaconda3/lib/python3.8/subprocess.py\u001b[0m in \u001b[0;36m__init__\u001b[0;34m(self, args, bufsize, executable, stdin, stdout, stderr, preexec_fn, close_fds, shell, cwd, env, universal_newlines, startupinfo, creationflags, restore_signals, start_new_session, pass_fds, encoding, errors, text)\u001b[0m\n\u001b[1;32m    857\u001b[0m \u001b[0;34m\u001b[0m\u001b[0m\n\u001b[0;32m--> 858\u001b[0;31m             self._execute_child(args, executable, preexec_fn, close_fds,\n\u001b[0m\u001b[1;32m    859\u001b[0m                                 \u001b[0mpass_fds\u001b[0m\u001b[0;34m,\u001b[0m \u001b[0mcwd\u001b[0m\u001b[0;34m,\u001b[0m \u001b[0menv\u001b[0m\u001b[0;34m,\u001b[0m\u001b[0;34m\u001b[0m\u001b[0;34m\u001b[0m\u001b[0m\n",
      "\u001b[0;32m~/anaconda3/lib/python3.8/subprocess.py\u001b[0m in \u001b[0;36m_execute_child\u001b[0;34m(self, args, executable, preexec_fn, close_fds, pass_fds, cwd, env, startupinfo, creationflags, shell, p2cread, p2cwrite, c2pread, c2pwrite, errread, errwrite, restore_signals, start_new_session)\u001b[0m\n\u001b[1;32m   1705\u001b[0m                         \u001b[0merr_msg\u001b[0m \u001b[0;34m=\u001b[0m \u001b[0mos\u001b[0m\u001b[0;34m.\u001b[0m\u001b[0mstrerror\u001b[0m\u001b[0;34m(\u001b[0m\u001b[0merrno_num\u001b[0m\u001b[0;34m)\u001b[0m\u001b[0;34m\u001b[0m\u001b[0;34m\u001b[0m\u001b[0m\n\u001b[0;32m-> 1706\u001b[0;31m                     \u001b[0;32mraise\u001b[0m \u001b[0mchild_exception_type\u001b[0m\u001b[0;34m(\u001b[0m\u001b[0merrno_num\u001b[0m\u001b[0;34m,\u001b[0m \u001b[0merr_msg\u001b[0m\u001b[0;34m,\u001b[0m \u001b[0merr_filename\u001b[0m\u001b[0;34m)\u001b[0m\u001b[0;34m\u001b[0m\u001b[0;34m\u001b[0m\u001b[0m\n\u001b[0m\u001b[1;32m   1707\u001b[0m                 \u001b[0;32mraise\u001b[0m \u001b[0mchild_exception_type\u001b[0m\u001b[0;34m(\u001b[0m\u001b[0merr_msg\u001b[0m\u001b[0;34m)\u001b[0m\u001b[0;34m\u001b[0m\u001b[0;34m\u001b[0m\u001b[0m\n",
      "\u001b[0;31mFileNotFoundError\u001b[0m: [Errno 2] No such file or directory: 'dot'",
      "\nDuring handling of the above exception, another exception occurred:\n",
      "\u001b[0;31mFileNotFoundError\u001b[0m                         Traceback (most recent call last)",
      "\u001b[0;32m<ipython-input-7-3551d7e11f0d>\u001b[0m in \u001b[0;36m<module>\u001b[0;34m\u001b[0m\n\u001b[0;32m----> 1\u001b[0;31m \u001b[0mgnb\u001b[0m\u001b[0;34m.\u001b[0m\u001b[0mflow\u001b[0m\u001b[0;34m.\u001b[0m\u001b[0madd\u001b[0m\u001b[0;34m(\u001b[0m\u001b[0mgnb\u001b[0m\u001b[0;34m.\u001b[0m\u001b[0mgetBN\u001b[0m\u001b[0;34m(\u001b[0m\u001b[0mbn\u001b[0m\u001b[0;34m,\u001b[0m\u001b[0msize\u001b[0m\u001b[0;34m=\u001b[0m\u001b[0;34m\"20\"\u001b[0m\u001b[0;34m)\u001b[0m\u001b[0;34m)\u001b[0m\u001b[0;34m\u001b[0m\u001b[0;34m\u001b[0m\u001b[0m\n\u001b[0m\u001b[1;32m      2\u001b[0m \u001b[0mgnb\u001b[0m\u001b[0;34m.\u001b[0m\u001b[0mflow\u001b[0m\u001b[0;34m.\u001b[0m\u001b[0mdisplay\u001b[0m\u001b[0;34m(\u001b[0m\u001b[0;34m)\u001b[0m\u001b[0;34m\u001b[0m\u001b[0;34m\u001b[0m\u001b[0m\n",
      "\u001b[0;32m~/anaconda3/lib/python3.8/site-packages/pyAgrum/lib/notebook.py\u001b[0m in \u001b[0;36mgetBN\u001b[0;34m(bn, size, nodeColor, arcWidth, arcLabel, arcColor, cmap, cmapArc)\u001b[0m\n\u001b[1;32m    916\u001b[0m     \u001b[0mcmapArc\u001b[0m \u001b[0;34m=\u001b[0m \u001b[0mcmap\u001b[0m\u001b[0;34m\u001b[0m\u001b[0;34m\u001b[0m\u001b[0m\n\u001b[1;32m    917\u001b[0m \u001b[0;34m\u001b[0m\u001b[0m\n\u001b[0;32m--> 918\u001b[0;31m   \u001b[0;32mreturn\u001b[0m \u001b[0mgetGraph\u001b[0m\u001b[0;34m(\u001b[0m\u001b[0mBN2dot\u001b[0m\u001b[0;34m(\u001b[0m\u001b[0mbn\u001b[0m\u001b[0;34m,\u001b[0m \u001b[0msize\u001b[0m\u001b[0;34m=\u001b[0m\u001b[0msize\u001b[0m\u001b[0;34m,\u001b[0m \u001b[0mnodeColor\u001b[0m\u001b[0;34m=\u001b[0m\u001b[0mnodeColor\u001b[0m\u001b[0;34m,\u001b[0m \u001b[0marcWidth\u001b[0m\u001b[0;34m=\u001b[0m\u001b[0marcWidth\u001b[0m\u001b[0;34m,\u001b[0m \u001b[0marcLabel\u001b[0m\u001b[0;34m=\u001b[0m\u001b[0marcLabel\u001b[0m\u001b[0;34m,\u001b[0m\u001b[0marcColor\u001b[0m\u001b[0;34m=\u001b[0m\u001b[0marcColor\u001b[0m\u001b[0;34m,\u001b[0m \u001b[0mcmapNode\u001b[0m\u001b[0;34m=\u001b[0m\u001b[0mcmap\u001b[0m\u001b[0;34m,\u001b[0m \u001b[0mcmapArc\u001b[0m\u001b[0;34m=\u001b[0m\u001b[0mcmapArc\u001b[0m\u001b[0;34m)\u001b[0m\u001b[0;34m,\u001b[0m \u001b[0msize\u001b[0m\u001b[0;34m)\u001b[0m\u001b[0;34m\u001b[0m\u001b[0;34m\u001b[0m\u001b[0m\n\u001b[0m\u001b[1;32m    919\u001b[0m \u001b[0;34m\u001b[0m\u001b[0m\n\u001b[1;32m    920\u001b[0m \u001b[0;34m\u001b[0m\u001b[0m\n",
      "\u001b[0;32m~/anaconda3/lib/python3.8/site-packages/pyAgrum/lib/notebook.py\u001b[0m in \u001b[0;36mgetGraph\u001b[0;34m(gr, size)\u001b[0m\n\u001b[1;32m    317\u001b[0m   \u001b[0mgr\u001b[0m\u001b[0;34m.\u001b[0m\u001b[0mdel_node\u001b[0m\u001b[0;34m(\u001b[0m\u001b[0;34m'\"\\\\n\\\\n\"'\u001b[0m\u001b[0;34m)\u001b[0m\u001b[0;34m\u001b[0m\u001b[0;34m\u001b[0m\u001b[0m\n\u001b[1;32m    318\u001b[0m \u001b[0;34m\u001b[0m\u001b[0m\n\u001b[0;32m--> 319\u001b[0;31m   \u001b[0;32mreturn\u001b[0m \u001b[0m_reprGraph\u001b[0m\u001b[0;34m(\u001b[0m\u001b[0mgr\u001b[0m\u001b[0;34m,\u001b[0m \u001b[0msize\u001b[0m\u001b[0;34m,\u001b[0m \u001b[0masString\u001b[0m\u001b[0;34m=\u001b[0m\u001b[0;32mTrue\u001b[0m\u001b[0;34m)\u001b[0m\u001b[0;34m\u001b[0m\u001b[0;34m\u001b[0m\u001b[0m\n\u001b[0m\u001b[1;32m    320\u001b[0m \u001b[0;34m\u001b[0m\u001b[0m\n\u001b[1;32m    321\u001b[0m \u001b[0;34m\u001b[0m\u001b[0m\n",
      "\u001b[0;32m~/anaconda3/lib/python3.8/site-packages/pyAgrum/lib/notebook.py\u001b[0m in \u001b[0;36m_reprGraph\u001b[0;34m(gr, size, asString, format)\u001b[0m\n\u001b[1;32m    265\u001b[0m   \u001b[0;32mif\u001b[0m \u001b[0mformat\u001b[0m \u001b[0;34m==\u001b[0m \u001b[0;34m\"svg\"\u001b[0m\u001b[0;34m:\u001b[0m\u001b[0;34m\u001b[0m\u001b[0;34m\u001b[0m\u001b[0m\n\u001b[1;32m    266\u001b[0m     gsvg = IPython.display.SVG(prepareLinksForSVG(\n\u001b[0;32m--> 267\u001b[0;31m         gr.create_svg(encoding=\"utf-8\").decode('utf-8')))\n\u001b[0m\u001b[1;32m    268\u001b[0m     \u001b[0;32mif\u001b[0m \u001b[0masString\u001b[0m\u001b[0;34m:\u001b[0m\u001b[0;34m\u001b[0m\u001b[0;34m\u001b[0m\u001b[0m\n\u001b[1;32m    269\u001b[0m       \u001b[0;32mreturn\u001b[0m \u001b[0mgsvg\u001b[0m\u001b[0;34m.\u001b[0m\u001b[0mdata\u001b[0m\u001b[0;34m\u001b[0m\u001b[0;34m\u001b[0m\u001b[0m\n",
      "\u001b[0;32m~/anaconda3/lib/python3.8/site-packages/pydot.py\u001b[0m in \u001b[0;36mnew_method\u001b[0;34m(f, prog, encoding)\u001b[0m\n\u001b[1;32m   1731\u001b[0m                     encoding=None):\n\u001b[1;32m   1732\u001b[0m                 \u001b[0;34m\"\"\"Refer to docstring of method `create`.\"\"\"\u001b[0m\u001b[0;34m\u001b[0m\u001b[0;34m\u001b[0m\u001b[0m\n\u001b[0;32m-> 1733\u001b[0;31m                 return self.create(\n\u001b[0m\u001b[1;32m   1734\u001b[0m                     format=f, prog=prog, encoding=encoding)\n\u001b[1;32m   1735\u001b[0m             \u001b[0mname\u001b[0m \u001b[0;34m=\u001b[0m \u001b[0;34m'create_{fmt}'\u001b[0m\u001b[0;34m.\u001b[0m\u001b[0mformat\u001b[0m\u001b[0;34m(\u001b[0m\u001b[0mfmt\u001b[0m\u001b[0;34m=\u001b[0m\u001b[0mfrmt\u001b[0m\u001b[0;34m)\u001b[0m\u001b[0;34m\u001b[0m\u001b[0;34m\u001b[0m\u001b[0m\n",
      "\u001b[0;32m~/anaconda3/lib/python3.8/site-packages/pydot.py\u001b[0m in \u001b[0;36mcreate\u001b[0;34m(self, prog, format, encoding)\u001b[0m\n\u001b[1;32m   1931\u001b[0m                 args[1] = '\"{prog}\" not found in path.'.format(\n\u001b[1;32m   1932\u001b[0m                     prog=prog)\n\u001b[0;32m-> 1933\u001b[0;31m                 \u001b[0;32mraise\u001b[0m \u001b[0mOSError\u001b[0m\u001b[0;34m(\u001b[0m\u001b[0;34m*\u001b[0m\u001b[0margs\u001b[0m\u001b[0;34m)\u001b[0m\u001b[0;34m\u001b[0m\u001b[0;34m\u001b[0m\u001b[0m\n\u001b[0m\u001b[1;32m   1934\u001b[0m             \u001b[0;32melse\u001b[0m\u001b[0;34m:\u001b[0m\u001b[0;34m\u001b[0m\u001b[0;34m\u001b[0m\u001b[0m\n\u001b[1;32m   1935\u001b[0m                 \u001b[0;32mraise\u001b[0m\u001b[0;34m\u001b[0m\u001b[0;34m\u001b[0m\u001b[0m\n",
      "\u001b[0;31mFileNotFoundError\u001b[0m: [Errno 2] \"dot\" not found in path."
     ]
    }
   ],
   "source": [
    "gnb.flow.add(gnb.getBN(bn,size=\"20\"))\n",
    "gnb.flow.display()"
   ]
  },
  {
   "cell_type": "code",
   "execution_count": 6,
   "id": "4c0e5e7b",
   "metadata": {},
   "outputs": [
    {
     "name": "stdout",
     "output_type": "stream",
     "text": [
      "0.9265723527743028\n"
     ]
    }
   ],
   "source": [
    "acc = 0\n",
    "domain = sorted(np.unique(y_train.to_numpy()))\n",
    "for i in X_test.index :\n",
    "    ie=gum.LazyPropagation(bn)\n",
    "    ie.addTarget(\"Accident\")\n",
    "    instance = X_test.loc[i]\n",
    "    for j in X_test.columns :\n",
    "        ie.addEvidence(j,str(instance[j]))\n",
    "    ie.makeInference()\n",
    "    post = ie.posterior(\"Accident\")\n",
    "    #print(post)\n",
    "    #print(y_test.loc[i])\n",
    "    acc = acc + post[domain.index(y_test.loc[i])]\n",
    "print(acc / len(X_test.index))"
   ]
  },
  {
   "cell_type": "code",
   "execution_count": 16,
   "id": "0ea90cf5",
   "metadata": {},
   "outputs": [
    {
     "data": {
      "text/plain": [
       "True"
      ]
     },
     "execution_count": 16,
     "metadata": {},
     "output_type": "execute_result"
    }
   ],
   "source": [
    "bn.dag().dSeparation(bn.idFromName(\"DrivHist\"),bn.idFromName(\"CarValue\"),bn.nodeset([\"DrivingSkill\", \"RiskAversion\"]))"
   ]
  },
  {
   "cell_type": "code",
   "execution_count": 17,
   "id": "44923e5b",
   "metadata": {},
   "outputs": [
    {
     "data": {
      "text/plain": [
       "<Swig Object of type 'gum::NodeSet *' at 0x7f4c1404b600>"
      ]
     },
     "execution_count": 17,
     "metadata": {},
     "output_type": "execute_result"
    }
   ],
   "source": [
    "bn.nodeset([\"OtherCarCost\"])."
   ]
  },
  {
   "cell_type": "code",
   "execution_count": 20,
   "id": "221193df",
   "metadata": {},
   "outputs": [
    {
     "name": "stdout",
     "output_type": "stream",
     "text": [
      "\n",
      "  Accident                             |\n",
      "Mild     |Moderate |None     |Severe   |\n",
      "---------|---------|---------|---------|\n",
      " 0.1406  | 0.1280  | 0.5316  | 0.1998  |\n",
      "\n"
     ]
    }
   ],
   "source": [
    "ie=gum.LazyPropagation(bn)\n",
    "ie.makeInference()\n",
    "ie.addEvidence(\"RiskAversion\",\"Psychopath\")\n",
    "print(ie.posterior(bn.idFromName(\"Accident\")))\n"
   ]
  },
  {
   "cell_type": "code",
   "execution_count": null,
   "id": "16553606",
   "metadata": {},
   "outputs": [],
   "source": [
    "ie=gum.LazyPropagation(bn)\n",
    "#ie.makeInference()\n",
    "ie.addEvidence(\"RiskAversion\",\"Cautious\")\n",
    "ie.addTarget(\"Accident\")\n",
    "print(ie.posterior(\"Accident\"))"
   ]
  },
  {
   "cell_type": "code",
   "execution_count": null,
   "id": "1b33c325",
   "metadata": {},
   "outputs": [],
   "source": [
    "l = np.unique(y_train.to_numpy())\n",
    "print(sorted(l))"
   ]
  },
  {
   "cell_type": "code",
   "execution_count": null,
   "id": "63519841",
   "metadata": {},
   "outputs": [],
   "source": [
    "import bnlearn as bnl"
   ]
  },
  {
   "cell_type": "code",
   "execution_count": null,
   "id": "51e33881",
   "metadata": {},
   "outputs": [],
   "source": [
    "model = bnl.structure_learning.fit(data)\n",
    "model = bnl.parameter_learning.fit(model, data)"
   ]
  },
  {
   "cell_type": "code",
   "execution_count": null,
   "id": "8dc0b179",
   "metadata": {},
   "outputs": [],
   "source": [
    "query = bnl.inference.fit(model, variables=['Accident'], evidence={'RiskAversion':\"Psychopath\"})"
   ]
  },
  {
   "cell_type": "code",
   "execution_count": null,
   "id": "c49b0532",
   "metadata": {},
   "outputs": [],
   "source": [
    "for i in range(0,4):\n",
    "    print(ie.posterior(bn.idFromName(\"Accident\"))[i])"
   ]
  },
  {
   "cell_type": "code",
   "execution_count": null,
   "id": "d246b7c8",
   "metadata": {},
   "outputs": [],
   "source": []
  },
  {
   "cell_type": "code",
   "execution_count": null,
   "id": "6f558b17",
   "metadata": {},
   "outputs": [],
   "source": [
    "le_X = preprocessing.OrdinalEncoder()\n",
    "le_y = preprocessing.LabelEncoder()\n",
    "\n",
    "X_train_en = le_X.fit_transform(X_train)\n",
    "y_train_en = le_y.fit_transform(y_train)"
   ]
  },
  {
   "cell_type": "code",
   "execution_count": null,
   "id": "4f724063",
   "metadata": {},
   "outputs": [],
   "source": [
    "clf = svm.SVC()\n",
    "clf.fit(X_train_en, y_train_en)"
   ]
  },
  {
   "cell_type": "code",
   "execution_count": null,
   "id": "dfeb101b",
   "metadata": {},
   "outputs": [],
   "source": [
    "clf.predict(le_X.transform(X_test))"
   ]
  },
  {
   "cell_type": "code",
   "execution_count": null,
   "id": "861e753a",
   "metadata": {},
   "outputs": [],
   "source": [
    "# train an imputer \n",
    "imp = impute.SimpleImputer(missing_values=np.nan, strategy = \"most_frequent\")\n",
    "#imp = impute.IterativeImputer(missing_values=np.nan, initial_strategy= \"most_frequent\")\n",
    "imp.fit(X_train)"
   ]
  },
  {
   "cell_type": "code",
   "execution_count": null,
   "id": "26a38d23",
   "metadata": {},
   "outputs": [],
   "source": [
    "prueba = X_test.head(1).to_numpy()\n",
    "prueba[0][10:26] = np.nan\n",
    "imp.transform(prueba)"
   ]
  },
  {
   "cell_type": "code",
   "execution_count": null,
   "id": "790d6d5b",
   "metadata": {},
   "outputs": [],
   "source": [
    "X_test.iloc[[1]]"
   ]
  },
  {
   "cell_type": "code",
   "execution_count": null,
   "id": "bf69f258",
   "metadata": {},
   "outputs": [],
   "source": [
    "X_observed = X.columns[0:20]\n",
    "X_unobserved = [x for x in X if x not in X_observed]"
   ]
  },
  {
   "cell_type": "code",
   "execution_count": null,
   "id": "c0f487fd",
   "metadata": {},
   "outputs": [],
   "source": [
    "def powerset(iterable):\n",
    "    s = list(iterable)\n",
    "    tmp = list(chain.from_iterable(combinations(s, r) for r in range(len(s)+1)))\n",
    "    return tmp"
   ]
  },
  {
   "cell_type": "code",
   "execution_count": null,
   "id": "46fc7aeb",
   "metadata": {},
   "outputs": [],
   "source": [
    "S = powerset(X_unobserved)\n",
    "S.pop(0)"
   ]
  },
  {
   "cell_type": "code",
   "execution_count": null,
   "id": "30d07d26",
   "metadata": {},
   "outputs": [],
   "source": [
    "S[10][1]"
   ]
  },
  {
   "cell_type": "code",
   "execution_count": null,
   "id": "51f6265f",
   "metadata": {},
   "outputs": [],
   "source": [
    "def omega(variable, data) :\n",
    "    return list(data[variable].unique())"
   ]
  },
  {
   "cell_type": "code",
   "execution_count": null,
   "id": "293ced06",
   "metadata": {},
   "outputs": [],
   "source": [
    "omega(\"Age\",X)"
   ]
  },
  {
   "cell_type": "code",
   "execution_count": null,
   "id": "370b422c",
   "metadata": {},
   "outputs": [],
   "source": [
    "# OPCIONES PARA PREDICT\n",
    "# Estimar con los datos la clase más probable\n",
    "# Estimar con los datos la missing data y utilizar el algoritmo\n",
    "clf.predict(le_X.transform(X_test.head(1).to_numpy()))"
   ]
  },
  {
   "cell_type": "code",
   "execution_count": null,
   "id": "652c900b",
   "metadata": {},
   "outputs": [],
   "source": [
    "prueba = X_test.head(1).to_numpy()"
   ]
  },
  {
   "cell_type": "code",
   "execution_count": null,
   "id": "0255426c",
   "metadata": {},
   "outputs": [],
   "source": [
    "prueba[0][10:26] = np.nan\n",
    "\n",
    "#prueba.iloc[0,20:26] = np.nan"
   ]
  },
  {
   "cell_type": "code",
   "execution_count": null,
   "id": "7fb3640f",
   "metadata": {},
   "outputs": [],
   "source": []
  },
  {
   "cell_type": "raw",
   "id": "751f9b7b",
   "metadata": {},
   "source": [
    "prueba"
   ]
  },
  {
   "cell_type": "code",
   "execution_count": null,
   "id": "71e65f19",
   "metadata": {},
   "outputs": [],
   "source": [
    "clf.predict(le_X.transform(X_test.head(1)))"
   ]
  },
  {
   "cell_type": "code",
   "execution_count": null,
   "id": "c899b5a1",
   "metadata": {},
   "outputs": [],
   "source": [
    "X_observed"
   ]
  },
  {
   "cell_type": "code",
   "execution_count": null,
   "id": "6063b588",
   "metadata": {},
   "outputs": [],
   "source": [
    "def reduce_dataset(instance, X,y) :\n",
    "    columns = X.columns\n",
    "    for i,value in enumerate(instance) :\n",
    "        if isinstance(value, str) or not math.isnan(value) :\n",
    "            X = X[X[columns[i]] == value]\n",
    "            X = X.drop(columns[i], axis=1)\n",
    "    y = y[[j for j in y.index if j in X.index]]\n",
    "    return X,y"
   ]
  },
  {
   "cell_type": "code",
   "execution_count": null,
   "id": "4965e3ce",
   "metadata": {},
   "outputs": [],
   "source": [
    "X['Age'] == \"Adult\""
   ]
  },
  {
   "cell_type": "code",
   "execution_count": null,
   "id": "fe84639e",
   "metadata": {},
   "outputs": [],
   "source": [
    "X_test.head(1).to_numpy()"
   ]
  },
  {
   "cell_type": "code",
   "execution_count": null,
   "id": "701d22e0",
   "metadata": {},
   "outputs": [],
   "source": [
    "reduced = reduce_dataset(prueba[0], X)"
   ]
  },
  {
   "cell_type": "code",
   "execution_count": null,
   "id": "8df70e4a",
   "metadata": {},
   "outputs": [],
   "source": [
    "reduced"
   ]
  },
  {
   "cell_type": "code",
   "execution_count": null,
   "id": "c877c29e",
   "metadata": {},
   "outputs": [],
   "source": [
    "def predict_wrapper(instance, hyp_vars) :\n",
    "    ie=gum.LazyPropagation(bn)\n",
    "    ie.addTarget(hyp_vars)\n",
    "    for i,value in enumerate(instance) :\n",
    "        if isinstance(value, str) or not math.isnan(value) :\n",
    "            ie.addEvidence\n",
    "            ie.\n",
    "            unobserved_vars.append(columns[i])\n",
    "    \n",
    "\n",
    "def omega(variables, data) :\n",
    "    domains = []\n",
    "    for variable in variables :\n",
    "        domains.append(sorted(data[variable].unique()))\n",
    "    return [p for p in product(*domains)]\n",
    "    \n",
    "\n",
    "# True if R is relevant/MAP-dependent\n",
    "# False if R is irrelevant/MAP-independent\n",
    "def map_independence(instances, set_R, data, bn, hyp_vars) : \n",
    "    #Type checking\n",
    "    if isinstance(instances, pd.core.frame.DataFrame) :\n",
    "        instances = instances.to_numpy()\n",
    "    #Array for each instance\n",
    "    out_array = []\n",
    "    # For each instance:\n",
    "    for instance in instances :\n",
    "        # Check which are the missing variables\n",
    "        columns = data.columns\n",
    "        unobserved_vars = []\n",
    "        for i,value in enumerate(instance) :\n",
    "            if not isinstance(value, str) and math.isnan(value) :\n",
    "                unobserved_vars.append(columns[i])\n",
    "        # Check if R in unobserved\n",
    "        #print(unobserved_vars)\n",
    "        for R in set_R :\n",
    "            if R not in unobserved_vars :\n",
    "                print(\"Error\")\n",
    "                return\n",
    "        # Impute and predict the instance\n",
    "        complete_instance = imp.transform([instance])\n",
    "        y = clf.predict(le_X.transform(complete_instance))\n",
    "        # Obtain domain of R\n",
    "        omega_R = omega(set_R, data)\n",
    "        # For each value assignment r in omega(R)\n",
    "        out_array.append(False)\n",
    "        for value_assignment_r in omega_R :\n",
    "            # Fill in values\n",
    "            instance_alt = instance.copy()\n",
    "            for i,value in enumerate(value_assignment_r) :\n",
    "                instance_alt[list(data.columns).index(set_R[i])] = value\n",
    "            #print(instance)\n",
    "            #print(instance_alt)\n",
    "            # Imputar y predecir \n",
    "            complete_instance_alt = imp.transform([instance_alt])\n",
    "            y_alt = clf.predict(le_X.transform(complete_instance_alt))\n",
    "            # Comparar con prediccion de instance\n",
    "            #print(y, \" == \", y_alt)\n",
    "            if y != y_alt :\n",
    "                out_array.pop()\n",
    "                out_array.append(True)\n",
    "                break\n",
    "    return out_array"
   ]
  },
  {
   "cell_type": "code",
   "execution_count": null,
   "id": "ade1f7aa",
   "metadata": {},
   "outputs": [],
   "source": [
    "np.nan == np.nan"
   ]
  },
  {
   "cell_type": "code",
   "execution_count": null,
   "id": "82fbe1f7",
   "metadata": {},
   "outputs": [],
   "source": [
    "out = check_r(prueba, X_train.columns[15:20], X_train)\n",
    "out"
   ]
  },
  {
   "cell_type": "code",
   "execution_count": null,
   "id": "a6301923",
   "metadata": {},
   "outputs": [],
   "source": [
    "for i in range(10,23) :\n",
    "    print(list(range(i,i+3)),check_r(prueba, X_train.columns[i:i+3], X_train))"
   ]
  },
  {
   "cell_type": "code",
   "execution_count": null,
   "id": "c9fd8ef2",
   "metadata": {},
   "outputs": [],
   "source": [
    "def check_every_r(instances, data) :\n",
    "    #Type checking\n",
    "    if isinstance(instances, pd.core.frame.DataFrame) :\n",
    "        instances = instances.to_numpy()\n",
    "    #Array for each instance\n",
    "    out_array = []\n",
    "    # For each instance:\n",
    "    for instance in instances :\n",
    "        # Check which are the missing variables\n",
    "        columns = data.columns\n",
    "        unobserved_vars = []\n",
    "        for i,value in enumerate(instance) :\n",
    "            if not isinstance(value, str) and math.isnan(value) :\n",
    "                unobserved_vars.append(columns[i])\n",
    "        S = powerset(unobserved_vars)\n",
    "        S.pop(0)\n",
    "        relevant_sets = []\n",
    "        irrelevant_sets = []\n",
    "        for i in S :\n",
    "            if check_r([instance], list(i), data)[0] :\n",
    "                relevant_sets.append(i)\n",
    "            else :\n",
    "                irrelevant_sets.append(i)\n",
    "        return relevant_sets, irrelevant_sets"
   ]
  },
  {
   "cell_type": "code",
   "execution_count": null,
   "id": "65e6c65d",
   "metadata": {},
   "outputs": [],
   "source": [
    "def check_every_r_prune(instances, data) :\n",
    "    #Type checking\n",
    "    if isinstance(instances, pd.core.frame.DataFrame) :\n",
    "        instances = instances.to_numpy()\n",
    "    #Array for each instance\n",
    "    out_array = []\n",
    "    # For each instance:\n",
    "    for instance in instances :\n",
    "        # Check which are the missing variables\n",
    "        columns = data.columns\n",
    "        unobserved_vars = []\n",
    "        for i,value in enumerate(instance) :\n",
    "            if not isinstance(value, str) and math.isnan(value) :\n",
    "                unobserved_vars.append(columns[i])\n",
    "        S = powerset(unobserved_vars)\n",
    "        S.pop(0)\n",
    "        # Divide by length\n",
    "        S_split = []\n",
    "        size = 0\n",
    "        for i in S :\n",
    "            if len(i) != size:\n",
    "                size = size + 1\n",
    "                S_split.append([])\n",
    "            S_split[-1].append(i)\n",
    "        relevant_sets = []\n",
    "        irrelevant_sets = []\n",
    "        for i in range(0,len(S_split)) :\n",
    "            for j in S_split[i] :\n",
    "                # If relevant\n",
    "                if check_r([instance], list(j), data)[0] :\n",
    "                    relevant_sets.append(j)\n",
    "                    # Apply prune\n",
    "                    for k in range(i+1,len(S_split)) :\n",
    "                        tmp = []\n",
    "                        for l in S_split[k] :\n",
    "                            if set(j).issubset(set(l)) :\n",
    "                                relevant_sets.append(l)\n",
    "                            else :\n",
    "                                tmp.append(l)\n",
    "                        S_split[k] = tmp\n",
    "                # If irrelevant\n",
    "                else :\n",
    "                    irrelevant_sets.append(j)\n",
    "        return relevant_sets, irrelevant_sets"
   ]
  },
  {
   "cell_type": "code",
   "execution_count": null,
   "id": "8f2bb84d",
   "metadata": {},
   "outputs": [],
   "source": [
    "prueba = X_test.head(1).to_numpy()\n",
    "prueba[0][0:10] = np.nan\n",
    "t0 = time.time()\n",
    "relevant_sets, irrelevant_sets = check_every_r(prueba, X_train)\n",
    "tf = time.time()\n",
    "print(\"Brute force: \",tf-t0)"
   ]
  },
  {
   "cell_type": "code",
   "execution_count": null,
   "id": "3b3d1733",
   "metadata": {},
   "outputs": [],
   "source": [
    "t0 = time.time()\n",
    "relevant_sets_p, irrelevant_sets_p = check_every_r_prune(prueba, X_train)\n",
    "tf = time.time()\n",
    "print(\"Prune: \",tf-t0)"
   ]
  },
  {
   "cell_type": "code",
   "execution_count": null,
   "id": "1796224b",
   "metadata": {},
   "outputs": [],
   "source": [
    "print(relevant_sets == relevant_sets_p)\n",
    "print(irrelevant_sets == irrelevant_sets_p)"
   ]
  },
  {
   "cell_type": "code",
   "execution_count": null,
   "id": "479c6004",
   "metadata": {},
   "outputs": [],
   "source": [
    "irrelevant_sets"
   ]
  },
  {
   "cell_type": "code",
   "execution_count": null,
   "id": "db0f3c8d",
   "metadata": {},
   "outputs": [],
   "source": [
    "# TODO FSS\n",
    "X_red, y_red = reduce_dataset(prueba[0], X_train, y_train)"
   ]
  },
  {
   "cell_type": "code",
   "execution_count": null,
   "id": "f3997fab",
   "metadata": {},
   "outputs": [],
   "source": [
    "X_red"
   ]
  },
  {
   "cell_type": "code",
   "execution_count": null,
   "id": "5ebdc03b",
   "metadata": {},
   "outputs": [],
   "source": [
    "y_red"
   ]
  },
  {
   "cell_type": "code",
   "execution_count": null,
   "id": "500d592c",
   "metadata": {},
   "outputs": [],
   "source": [
    "#sel = feature_selection.GenericUnivariateSelect()\n",
    "oe = preprocessing.OrdinalEncoder()\n",
    "sel = feature_selection.RFECV(svm.SVC(kernel=\"linear\"))\n",
    "sel.fit_transform(oe.fit_transform(X_red),y_red)\n",
    "sel.support_"
   ]
  },
  {
   "cell_type": "code",
   "execution_count": null,
   "id": "f473d96a",
   "metadata": {},
   "outputs": [],
   "source": [
    "print(X_red.columns[sel.support_ == False])"
   ]
  },
  {
   "cell_type": "code",
   "execution_count": null,
   "id": "a0a2e89d",
   "metadata": {},
   "outputs": [],
   "source": [
    "feature_selection.mutual_info_classif(oe.fit_transform(X_red),y_red)"
   ]
  },
  {
   "cell_type": "code",
   "execution_count": null,
   "id": "3ce3fae8",
   "metadata": {},
   "outputs": [],
   "source": [
    "sel = feature_selection.GenericUnivariateSelect(feature_selection.chi2)\n",
    "X_new = sel.fit_transform(oe.fit_transform(X_red),y_red)\n",
    "sel.get_support()"
   ]
  },
  {
   "cell_type": "code",
   "execution_count": null,
   "id": "3c8d48a4",
   "metadata": {},
   "outputs": [],
   "source": []
  }
 ],
 "metadata": {
  "kernelspec": {
   "display_name": "Python 3",
   "language": "python",
   "name": "python3"
  },
  "language_info": {
   "codemirror_mode": {
    "name": "ipython",
    "version": 3
   },
   "file_extension": ".py",
   "mimetype": "text/x-python",
   "name": "python",
   "nbconvert_exporter": "python",
   "pygments_lexer": "ipython3",
   "version": "3.8.8"
  }
 },
 "nbformat": 4,
 "nbformat_minor": 5
}
