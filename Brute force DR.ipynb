{
 "cells": [
  {
   "cell_type": "code",
   "execution_count": 1,
   "id": "9dbaaf52",
   "metadata": {},
   "outputs": [],
   "source": [
    "import numpy as np\n",
    "import pandas as pd\n",
    "from sklearn import svm, model_selection, preprocessing, pipeline, impute, feature_selection\n",
    "from sklearn.experimental import enable_iterative_imputer\n",
    "from itertools import chain, combinations, product\n",
    "import math\n",
    "import time\n",
    "\n",
    "import warnings\n",
    "from sklearn.exceptions import DataConversionWarning\n",
    "warnings.filterwarnings(action='ignore', category=UserWarning)"
   ]
  },
  {
   "cell_type": "code",
   "execution_count": 2,
   "id": "c3b89624",
   "metadata": {},
   "outputs": [
    {
     "data": {
      "text/html": [
       "<div>\n",
       "<style scoped>\n",
       "    .dataframe tbody tr th:only-of-type {\n",
       "        vertical-align: middle;\n",
       "    }\n",
       "\n",
       "    .dataframe tbody tr th {\n",
       "        vertical-align: top;\n",
       "    }\n",
       "\n",
       "    .dataframe thead th {\n",
       "        text-align: right;\n",
       "    }\n",
       "</style>\n",
       "<table border=\"1\" class=\"dataframe\">\n",
       "  <thead>\n",
       "    <tr style=\"text-align: right;\">\n",
       "      <th></th>\n",
       "      <th>GoodStudent</th>\n",
       "      <th>Age</th>\n",
       "      <th>SocioEcon</th>\n",
       "      <th>RiskAversion</th>\n",
       "      <th>VehicleYear</th>\n",
       "      <th>ThisCarDam</th>\n",
       "      <th>RuggedAuto</th>\n",
       "      <th>Accident</th>\n",
       "      <th>MakeModel</th>\n",
       "      <th>DrivQuality</th>\n",
       "      <th>...</th>\n",
       "      <th>HomeBase</th>\n",
       "      <th>AntiTheft</th>\n",
       "      <th>PropCost</th>\n",
       "      <th>OtherCarCost</th>\n",
       "      <th>OtherCar</th>\n",
       "      <th>MedCost</th>\n",
       "      <th>Cushioning</th>\n",
       "      <th>Airbag</th>\n",
       "      <th>ILiCost</th>\n",
       "      <th>DrivHist</th>\n",
       "    </tr>\n",
       "  </thead>\n",
       "  <tbody>\n",
       "    <tr>\n",
       "      <th>0</th>\n",
       "      <td>False</td>\n",
       "      <td>Adult</td>\n",
       "      <td>Prole</td>\n",
       "      <td>Adventurous</td>\n",
       "      <td>Older</td>\n",
       "      <td>Moderate</td>\n",
       "      <td>EggShell</td>\n",
       "      <td>Mild</td>\n",
       "      <td>Economy</td>\n",
       "      <td>Poor</td>\n",
       "      <td>...</td>\n",
       "      <td>City</td>\n",
       "      <td>False</td>\n",
       "      <td>TenThou</td>\n",
       "      <td>Thousand</td>\n",
       "      <td>True</td>\n",
       "      <td>Thousand</td>\n",
       "      <td>Poor</td>\n",
       "      <td>False</td>\n",
       "      <td>Thousand</td>\n",
       "      <td>Many</td>\n",
       "    </tr>\n",
       "    <tr>\n",
       "      <th>1</th>\n",
       "      <td>False</td>\n",
       "      <td>Senior</td>\n",
       "      <td>Prole</td>\n",
       "      <td>Cautious</td>\n",
       "      <td>Current</td>\n",
       "      <td>None</td>\n",
       "      <td>Football</td>\n",
       "      <td>None</td>\n",
       "      <td>Economy</td>\n",
       "      <td>Normal</td>\n",
       "      <td>...</td>\n",
       "      <td>City</td>\n",
       "      <td>True</td>\n",
       "      <td>Thousand</td>\n",
       "      <td>Thousand</td>\n",
       "      <td>True</td>\n",
       "      <td>Thousand</td>\n",
       "      <td>Good</td>\n",
       "      <td>True</td>\n",
       "      <td>Thousand</td>\n",
       "      <td>Zero</td>\n",
       "    </tr>\n",
       "    <tr>\n",
       "      <th>2</th>\n",
       "      <td>False</td>\n",
       "      <td>Senior</td>\n",
       "      <td>UpperMiddle</td>\n",
       "      <td>Psychopath</td>\n",
       "      <td>Current</td>\n",
       "      <td>None</td>\n",
       "      <td>Football</td>\n",
       "      <td>None</td>\n",
       "      <td>FamilySedan</td>\n",
       "      <td>Excellent</td>\n",
       "      <td>...</td>\n",
       "      <td>City</td>\n",
       "      <td>False</td>\n",
       "      <td>Thousand</td>\n",
       "      <td>Thousand</td>\n",
       "      <td>False</td>\n",
       "      <td>Thousand</td>\n",
       "      <td>Good</td>\n",
       "      <td>True</td>\n",
       "      <td>Thousand</td>\n",
       "      <td>One</td>\n",
       "    </tr>\n",
       "    <tr>\n",
       "      <th>3</th>\n",
       "      <td>False</td>\n",
       "      <td>Adolescent</td>\n",
       "      <td>Middle</td>\n",
       "      <td>Normal</td>\n",
       "      <td>Older</td>\n",
       "      <td>None</td>\n",
       "      <td>EggShell</td>\n",
       "      <td>None</td>\n",
       "      <td>Economy</td>\n",
       "      <td>Normal</td>\n",
       "      <td>...</td>\n",
       "      <td>Suburb</td>\n",
       "      <td>False</td>\n",
       "      <td>Thousand</td>\n",
       "      <td>Thousand</td>\n",
       "      <td>True</td>\n",
       "      <td>Thousand</td>\n",
       "      <td>Fair</td>\n",
       "      <td>False</td>\n",
       "      <td>Thousand</td>\n",
       "      <td>Zero</td>\n",
       "    </tr>\n",
       "    <tr>\n",
       "      <th>4</th>\n",
       "      <td>False</td>\n",
       "      <td>Adolescent</td>\n",
       "      <td>Prole</td>\n",
       "      <td>Normal</td>\n",
       "      <td>Older</td>\n",
       "      <td>Moderate</td>\n",
       "      <td>Football</td>\n",
       "      <td>Moderate</td>\n",
       "      <td>Economy</td>\n",
       "      <td>Poor</td>\n",
       "      <td>...</td>\n",
       "      <td>City</td>\n",
       "      <td>False</td>\n",
       "      <td>TenThou</td>\n",
       "      <td>Thousand</td>\n",
       "      <td>False</td>\n",
       "      <td>Thousand</td>\n",
       "      <td>Fair</td>\n",
       "      <td>False</td>\n",
       "      <td>Thousand</td>\n",
       "      <td>Many</td>\n",
       "    </tr>\n",
       "    <tr>\n",
       "      <th>...</th>\n",
       "      <td>...</td>\n",
       "      <td>...</td>\n",
       "      <td>...</td>\n",
       "      <td>...</td>\n",
       "      <td>...</td>\n",
       "      <td>...</td>\n",
       "      <td>...</td>\n",
       "      <td>...</td>\n",
       "      <td>...</td>\n",
       "      <td>...</td>\n",
       "      <td>...</td>\n",
       "      <td>...</td>\n",
       "      <td>...</td>\n",
       "      <td>...</td>\n",
       "      <td>...</td>\n",
       "      <td>...</td>\n",
       "      <td>...</td>\n",
       "      <td>...</td>\n",
       "      <td>...</td>\n",
       "      <td>...</td>\n",
       "      <td>...</td>\n",
       "    </tr>\n",
       "    <tr>\n",
       "      <th>19995</th>\n",
       "      <td>False</td>\n",
       "      <td>Adult</td>\n",
       "      <td>Prole</td>\n",
       "      <td>Adventurous</td>\n",
       "      <td>Older</td>\n",
       "      <td>Mild</td>\n",
       "      <td>Football</td>\n",
       "      <td>Mild</td>\n",
       "      <td>Economy</td>\n",
       "      <td>Poor</td>\n",
       "      <td>...</td>\n",
       "      <td>City</td>\n",
       "      <td>False</td>\n",
       "      <td>Thousand</td>\n",
       "      <td>Thousand</td>\n",
       "      <td>True</td>\n",
       "      <td>Thousand</td>\n",
       "      <td>Fair</td>\n",
       "      <td>False</td>\n",
       "      <td>Thousand</td>\n",
       "      <td>Many</td>\n",
       "    </tr>\n",
       "    <tr>\n",
       "      <th>19996</th>\n",
       "      <td>False</td>\n",
       "      <td>Adult</td>\n",
       "      <td>Middle</td>\n",
       "      <td>Normal</td>\n",
       "      <td>Older</td>\n",
       "      <td>None</td>\n",
       "      <td>Tank</td>\n",
       "      <td>None</td>\n",
       "      <td>FamilySedan</td>\n",
       "      <td>Normal</td>\n",
       "      <td>...</td>\n",
       "      <td>Suburb</td>\n",
       "      <td>False</td>\n",
       "      <td>Thousand</td>\n",
       "      <td>Thousand</td>\n",
       "      <td>True</td>\n",
       "      <td>Thousand</td>\n",
       "      <td>Good</td>\n",
       "      <td>False</td>\n",
       "      <td>Thousand</td>\n",
       "      <td>Zero</td>\n",
       "    </tr>\n",
       "    <tr>\n",
       "      <th>19997</th>\n",
       "      <td>False</td>\n",
       "      <td>Senior</td>\n",
       "      <td>UpperMiddle</td>\n",
       "      <td>Normal</td>\n",
       "      <td>Current</td>\n",
       "      <td>None</td>\n",
       "      <td>Football</td>\n",
       "      <td>None</td>\n",
       "      <td>Luxury</td>\n",
       "      <td>Excellent</td>\n",
       "      <td>...</td>\n",
       "      <td>Secure</td>\n",
       "      <td>True</td>\n",
       "      <td>TenThou</td>\n",
       "      <td>Thousand</td>\n",
       "      <td>False</td>\n",
       "      <td>Thousand</td>\n",
       "      <td>Excellent</td>\n",
       "      <td>True</td>\n",
       "      <td>Thousand</td>\n",
       "      <td>Zero</td>\n",
       "    </tr>\n",
       "    <tr>\n",
       "      <th>19998</th>\n",
       "      <td>False</td>\n",
       "      <td>Adult</td>\n",
       "      <td>Middle</td>\n",
       "      <td>Normal</td>\n",
       "      <td>Older</td>\n",
       "      <td>None</td>\n",
       "      <td>Football</td>\n",
       "      <td>None</td>\n",
       "      <td>FamilySedan</td>\n",
       "      <td>Excellent</td>\n",
       "      <td>...</td>\n",
       "      <td>Suburb</td>\n",
       "      <td>False</td>\n",
       "      <td>Thousand</td>\n",
       "      <td>Thousand</td>\n",
       "      <td>True</td>\n",
       "      <td>Thousand</td>\n",
       "      <td>Good</td>\n",
       "      <td>True</td>\n",
       "      <td>Thousand</td>\n",
       "      <td>Zero</td>\n",
       "    </tr>\n",
       "    <tr>\n",
       "      <th>19999</th>\n",
       "      <td>False</td>\n",
       "      <td>Adult</td>\n",
       "      <td>Middle</td>\n",
       "      <td>Normal</td>\n",
       "      <td>Older</td>\n",
       "      <td>None</td>\n",
       "      <td>Tank</td>\n",
       "      <td>None</td>\n",
       "      <td>FamilySedan</td>\n",
       "      <td>Excellent</td>\n",
       "      <td>...</td>\n",
       "      <td>Secure</td>\n",
       "      <td>False</td>\n",
       "      <td>Thousand</td>\n",
       "      <td>Thousand</td>\n",
       "      <td>True</td>\n",
       "      <td>Thousand</td>\n",
       "      <td>Excellent</td>\n",
       "      <td>True</td>\n",
       "      <td>Thousand</td>\n",
       "      <td>Zero</td>\n",
       "    </tr>\n",
       "  </tbody>\n",
       "</table>\n",
       "<p>20000 rows × 27 columns</p>\n",
       "</div>"
      ],
      "text/plain": [
       "       GoodStudent         Age    SocioEcon RiskAversion VehicleYear  \\\n",
       "0            False       Adult        Prole  Adventurous       Older   \n",
       "1            False      Senior        Prole     Cautious     Current   \n",
       "2            False      Senior  UpperMiddle   Psychopath     Current   \n",
       "3            False  Adolescent       Middle       Normal       Older   \n",
       "4            False  Adolescent        Prole       Normal       Older   \n",
       "...            ...         ...          ...          ...         ...   \n",
       "19995        False       Adult        Prole  Adventurous       Older   \n",
       "19996        False       Adult       Middle       Normal       Older   \n",
       "19997        False      Senior  UpperMiddle       Normal     Current   \n",
       "19998        False       Adult       Middle       Normal       Older   \n",
       "19999        False       Adult       Middle       Normal       Older   \n",
       "\n",
       "      ThisCarDam RuggedAuto  Accident    MakeModel DrivQuality  ... HomeBase  \\\n",
       "0       Moderate   EggShell      Mild      Economy        Poor  ...     City   \n",
       "1           None   Football      None      Economy      Normal  ...     City   \n",
       "2           None   Football      None  FamilySedan   Excellent  ...     City   \n",
       "3           None   EggShell      None      Economy      Normal  ...   Suburb   \n",
       "4       Moderate   Football  Moderate      Economy        Poor  ...     City   \n",
       "...          ...        ...       ...          ...         ...  ...      ...   \n",
       "19995       Mild   Football      Mild      Economy        Poor  ...     City   \n",
       "19996       None       Tank      None  FamilySedan      Normal  ...   Suburb   \n",
       "19997       None   Football      None       Luxury   Excellent  ...   Secure   \n",
       "19998       None   Football      None  FamilySedan   Excellent  ...   Suburb   \n",
       "19999       None       Tank      None  FamilySedan   Excellent  ...   Secure   \n",
       "\n",
       "       AntiTheft  PropCost  OtherCarCost OtherCar   MedCost Cushioning Airbag  \\\n",
       "0          False   TenThou      Thousand     True  Thousand       Poor  False   \n",
       "1           True  Thousand      Thousand     True  Thousand       Good   True   \n",
       "2          False  Thousand      Thousand    False  Thousand       Good   True   \n",
       "3          False  Thousand      Thousand     True  Thousand       Fair  False   \n",
       "4          False   TenThou      Thousand    False  Thousand       Fair  False   \n",
       "...          ...       ...           ...      ...       ...        ...    ...   \n",
       "19995      False  Thousand      Thousand     True  Thousand       Fair  False   \n",
       "19996      False  Thousand      Thousand     True  Thousand       Good  False   \n",
       "19997       True   TenThou      Thousand    False  Thousand  Excellent   True   \n",
       "19998      False  Thousand      Thousand     True  Thousand       Good   True   \n",
       "19999      False  Thousand      Thousand     True  Thousand  Excellent   True   \n",
       "\n",
       "        ILiCost DrivHist  \n",
       "0      Thousand     Many  \n",
       "1      Thousand     Zero  \n",
       "2      Thousand      One  \n",
       "3      Thousand     Zero  \n",
       "4      Thousand     Many  \n",
       "...         ...      ...  \n",
       "19995  Thousand     Many  \n",
       "19996  Thousand     Zero  \n",
       "19997  Thousand     Zero  \n",
       "19998  Thousand     Zero  \n",
       "19999  Thousand     Zero  \n",
       "\n",
       "[20000 rows x 27 columns]"
      ]
     },
     "execution_count": 2,
     "metadata": {},
     "output_type": "execute_result"
    }
   ],
   "source": [
    "data = pd.read_csv(\"insurance.csv\")\n",
    "data"
   ]
  },
  {
   "cell_type": "code",
   "execution_count": 3,
   "id": "d246b7c8",
   "metadata": {},
   "outputs": [],
   "source": [
    "#X = data[data.columns.drop([\"RiskAversion\", \"Accident\"])]\n",
    "#y = data[[\"RiskAversion\", \"Accident\"]]\n",
    "\n",
    "X = data[data.columns.drop(\"Accident\")]\n",
    "y = data[\"Accident\"]\n",
    "\n",
    "X_train, X_test, y_train, y_test = model_selection.train_test_split(X, y)"
   ]
  },
  {
   "cell_type": "code",
   "execution_count": 4,
   "id": "6f558b17",
   "metadata": {},
   "outputs": [],
   "source": [
    "le_X = preprocessing.OrdinalEncoder()\n",
    "le_y = preprocessing.LabelEncoder()\n",
    "\n",
    "X_train_en = le_X.fit_transform(X_train)\n",
    "y_train_en = le_y.fit_transform(y_train)"
   ]
  },
  {
   "cell_type": "code",
   "execution_count": 5,
   "id": "4f724063",
   "metadata": {},
   "outputs": [
    {
     "data": {
      "text/plain": [
       "SVC()"
      ]
     },
     "execution_count": 5,
     "metadata": {},
     "output_type": "execute_result"
    }
   ],
   "source": [
    "clf = svm.SVC()\n",
    "clf.fit(X_train_en, y_train_en)"
   ]
  },
  {
   "cell_type": "code",
   "execution_count": 6,
   "id": "dfeb101b",
   "metadata": {},
   "outputs": [
    {
     "data": {
      "text/plain": [
       "array([2, 2, 0, ..., 2, 2, 2])"
      ]
     },
     "execution_count": 6,
     "metadata": {},
     "output_type": "execute_result"
    }
   ],
   "source": [
    "clf.predict(le_X.transform(X_test))"
   ]
  },
  {
   "cell_type": "code",
   "execution_count": 7,
   "id": "861e753a",
   "metadata": {},
   "outputs": [
    {
     "data": {
      "text/plain": [
       "SimpleImputer(strategy='most_frequent')"
      ]
     },
     "execution_count": 7,
     "metadata": {},
     "output_type": "execute_result"
    }
   ],
   "source": [
    "# train an imputer \n",
    "imp = impute.SimpleImputer(missing_values=np.nan, strategy = \"most_frequent\")\n",
    "#imp = impute.IterativeImputer(missing_values=np.nan, initial_strategy= \"most_frequent\")\n",
    "imp.fit(X_train)"
   ]
  },
  {
   "cell_type": "code",
   "execution_count": 8,
   "id": "26a38d23",
   "metadata": {},
   "outputs": [
    {
     "data": {
      "text/plain": [
       "array([[False, 'Adult', 'Middle', 'Normal', 'Older', 'None', 'Football',\n",
       "        'FamilySedan', 'Excellent', 'Domino', False, 'Normal', False,\n",
       "        'Thousand', False, 'FiveThou', 'City', False, 'Thousand',\n",
       "        'Thousand', True, 'Thousand', 'Poor', False, 'Thousand', 'Zero']],\n",
       "      dtype=object)"
      ]
     },
     "execution_count": 8,
     "metadata": {},
     "output_type": "execute_result"
    }
   ],
   "source": [
    "prueba = X_test.head(1).to_numpy()\n",
    "prueba[0][10:26] = np.nan\n",
    "imp.transform(prueba)"
   ]
  },
  {
   "cell_type": "code",
   "execution_count": 9,
   "id": "790d6d5b",
   "metadata": {},
   "outputs": [
    {
     "data": {
      "text/html": [
       "<div>\n",
       "<style scoped>\n",
       "    .dataframe tbody tr th:only-of-type {\n",
       "        vertical-align: middle;\n",
       "    }\n",
       "\n",
       "    .dataframe tbody tr th {\n",
       "        vertical-align: top;\n",
       "    }\n",
       "\n",
       "    .dataframe thead th {\n",
       "        text-align: right;\n",
       "    }\n",
       "</style>\n",
       "<table border=\"1\" class=\"dataframe\">\n",
       "  <thead>\n",
       "    <tr style=\"text-align: right;\">\n",
       "      <th></th>\n",
       "      <th>GoodStudent</th>\n",
       "      <th>Age</th>\n",
       "      <th>SocioEcon</th>\n",
       "      <th>RiskAversion</th>\n",
       "      <th>VehicleYear</th>\n",
       "      <th>ThisCarDam</th>\n",
       "      <th>RuggedAuto</th>\n",
       "      <th>MakeModel</th>\n",
       "      <th>DrivQuality</th>\n",
       "      <th>Mileage</th>\n",
       "      <th>...</th>\n",
       "      <th>HomeBase</th>\n",
       "      <th>AntiTheft</th>\n",
       "      <th>PropCost</th>\n",
       "      <th>OtherCarCost</th>\n",
       "      <th>OtherCar</th>\n",
       "      <th>MedCost</th>\n",
       "      <th>Cushioning</th>\n",
       "      <th>Airbag</th>\n",
       "      <th>ILiCost</th>\n",
       "      <th>DrivHist</th>\n",
       "    </tr>\n",
       "  </thead>\n",
       "  <tbody>\n",
       "    <tr>\n",
       "      <th>17854</th>\n",
       "      <td>False</td>\n",
       "      <td>Adult</td>\n",
       "      <td>UpperMiddle</td>\n",
       "      <td>Normal</td>\n",
       "      <td>Current</td>\n",
       "      <td>None</td>\n",
       "      <td>Football</td>\n",
       "      <td>Luxury</td>\n",
       "      <td>Normal</td>\n",
       "      <td>TwentyThou</td>\n",
       "      <td>...</td>\n",
       "      <td>Secure</td>\n",
       "      <td>True</td>\n",
       "      <td>Thousand</td>\n",
       "      <td>Thousand</td>\n",
       "      <td>True</td>\n",
       "      <td>Thousand</td>\n",
       "      <td>Good</td>\n",
       "      <td>True</td>\n",
       "      <td>Thousand</td>\n",
       "      <td>Zero</td>\n",
       "    </tr>\n",
       "  </tbody>\n",
       "</table>\n",
       "<p>1 rows × 26 columns</p>\n",
       "</div>"
      ],
      "text/plain": [
       "       GoodStudent    Age    SocioEcon RiskAversion VehicleYear ThisCarDam  \\\n",
       "17854        False  Adult  UpperMiddle       Normal     Current       None   \n",
       "\n",
       "      RuggedAuto MakeModel DrivQuality     Mileage  ...  HomeBase AntiTheft  \\\n",
       "17854   Football    Luxury      Normal  TwentyThou  ...    Secure      True   \n",
       "\n",
       "       PropCost OtherCarCost  OtherCar   MedCost Cushioning  Airbag   ILiCost  \\\n",
       "17854  Thousand     Thousand      True  Thousand       Good    True  Thousand   \n",
       "\n",
       "      DrivHist  \n",
       "17854     Zero  \n",
       "\n",
       "[1 rows x 26 columns]"
      ]
     },
     "execution_count": 9,
     "metadata": {},
     "output_type": "execute_result"
    }
   ],
   "source": [
    "X_test.iloc[[1]]"
   ]
  },
  {
   "cell_type": "code",
   "execution_count": 10,
   "id": "bf69f258",
   "metadata": {},
   "outputs": [],
   "source": [
    "X_observed = X.columns[0:20]\n",
    "X_unobserved = [x for x in X if x not in X_observed]"
   ]
  },
  {
   "cell_type": "code",
   "execution_count": 11,
   "id": "c0f487fd",
   "metadata": {},
   "outputs": [],
   "source": [
    "def powerset(iterable):\n",
    "    s = list(iterable)\n",
    "    tmp = list(chain.from_iterable(combinations(s, r) for r in range(len(s)+1)))\n",
    "    return tmp"
   ]
  },
  {
   "cell_type": "code",
   "execution_count": 12,
   "id": "46fc7aeb",
   "metadata": {},
   "outputs": [
    {
     "data": {
      "text/plain": [
       "()"
      ]
     },
     "execution_count": 12,
     "metadata": {},
     "output_type": "execute_result"
    }
   ],
   "source": [
    "S = powerset(X_unobserved)\n",
    "S.pop(0)"
   ]
  },
  {
   "cell_type": "code",
   "execution_count": 13,
   "id": "30d07d26",
   "metadata": {},
   "outputs": [
    {
     "data": {
      "text/plain": [
       "'DrivHist'"
      ]
     },
     "execution_count": 13,
     "metadata": {},
     "output_type": "execute_result"
    }
   ],
   "source": [
    "S[10][1]"
   ]
  },
  {
   "cell_type": "code",
   "execution_count": 14,
   "id": "51f6265f",
   "metadata": {},
   "outputs": [],
   "source": [
    "def omega(variable, data) :\n",
    "    return list(data[variable].unique())"
   ]
  },
  {
   "cell_type": "code",
   "execution_count": 15,
   "id": "293ced06",
   "metadata": {},
   "outputs": [
    {
     "data": {
      "text/plain": [
       "['Adult', 'Senior', 'Adolescent']"
      ]
     },
     "execution_count": 15,
     "metadata": {},
     "output_type": "execute_result"
    }
   ],
   "source": [
    "omega(\"Age\",X)"
   ]
  },
  {
   "cell_type": "code",
   "execution_count": 16,
   "id": "370b422c",
   "metadata": {},
   "outputs": [
    {
     "data": {
      "text/plain": [
       "array([2])"
      ]
     },
     "execution_count": 16,
     "metadata": {},
     "output_type": "execute_result"
    }
   ],
   "source": [
    "# OPCIONES PARA PREDICT\n",
    "# Estimar con los datos la clase más probable\n",
    "# Estimar con los datos la missing data y utilizar el algoritmo\n",
    "clf.predict(le_X.transform(X_test.head(1).to_numpy()))"
   ]
  },
  {
   "cell_type": "code",
   "execution_count": 34,
   "id": "652c900b",
   "metadata": {},
   "outputs": [],
   "source": [
    "prueba = X_test.head(1).to_numpy()"
   ]
  },
  {
   "cell_type": "code",
   "execution_count": 35,
   "id": "0255426c",
   "metadata": {},
   "outputs": [],
   "source": [
    "prueba[0][20:26] = np.nan\n",
    "\n",
    "#prueba.iloc[0,20:26] = np.nan"
   ]
  },
  {
   "cell_type": "code",
   "execution_count": null,
   "id": "7fb3640f",
   "metadata": {},
   "outputs": [],
   "source": []
  },
  {
   "cell_type": "raw",
   "id": "751f9b7b",
   "metadata": {},
   "source": [
    "prueba"
   ]
  },
  {
   "cell_type": "code",
   "execution_count": 19,
   "id": "71e65f19",
   "metadata": {},
   "outputs": [
    {
     "data": {
      "text/plain": [
       "array([2])"
      ]
     },
     "execution_count": 19,
     "metadata": {},
     "output_type": "execute_result"
    }
   ],
   "source": [
    "clf.predict(le_X.transform(X_test.head(1)))"
   ]
  },
  {
   "cell_type": "code",
   "execution_count": 20,
   "id": "c899b5a1",
   "metadata": {},
   "outputs": [
    {
     "data": {
      "text/plain": [
       "Index(['GoodStudent', 'Age', 'SocioEcon', 'RiskAversion', 'VehicleYear',\n",
       "       'ThisCarDam', 'RuggedAuto', 'MakeModel', 'DrivQuality', 'Mileage',\n",
       "       'Antilock', 'DrivingSkill', 'SeniorTrain', 'ThisCarCost', 'Theft',\n",
       "       'CarValue', 'HomeBase', 'AntiTheft', 'PropCost', 'OtherCarCost'],\n",
       "      dtype='object')"
      ]
     },
     "execution_count": 20,
     "metadata": {},
     "output_type": "execute_result"
    }
   ],
   "source": [
    "X_observed"
   ]
  },
  {
   "cell_type": "code",
   "execution_count": 21,
   "id": "6063b588",
   "metadata": {},
   "outputs": [],
   "source": [
    "def reduce_dataset(instance, X,y) :\n",
    "    columns = X.columns\n",
    "    for i,value in enumerate(instance) :\n",
    "        if isinstance(value, str) or not math.isnan(value) :\n",
    "            X = X[X[columns[i]] == value]\n",
    "            X = X.drop(columns[i], axis=1)\n",
    "    y = y[[j for j in y.index if j in X.index]]\n",
    "    return X,y"
   ]
  },
  {
   "cell_type": "code",
   "execution_count": 22,
   "id": "4965e3ce",
   "metadata": {},
   "outputs": [
    {
     "data": {
      "text/plain": [
       "0         True\n",
       "1        False\n",
       "2        False\n",
       "3        False\n",
       "4        False\n",
       "         ...  \n",
       "19995     True\n",
       "19996     True\n",
       "19997    False\n",
       "19998     True\n",
       "19999     True\n",
       "Name: Age, Length: 20000, dtype: bool"
      ]
     },
     "execution_count": 22,
     "metadata": {},
     "output_type": "execute_result"
    }
   ],
   "source": [
    "X['Age'] == \"Adult\""
   ]
  },
  {
   "cell_type": "code",
   "execution_count": 23,
   "id": "fe84639e",
   "metadata": {},
   "outputs": [
    {
     "data": {
      "text/plain": [
       "array([[False, 'Adult', 'Middle', 'Normal', 'Older', 'None', 'Football',\n",
       "        'FamilySedan', 'Excellent', 'Domino', False, 'Expert', False,\n",
       "        'Thousand', False, 'FiveThou', 'Secure', True, 'TenThou',\n",
       "        'Thousand', True, 'Thousand', 'Fair', False, 'Thousand', 'Zero']],\n",
       "      dtype=object)"
      ]
     },
     "execution_count": 23,
     "metadata": {},
     "output_type": "execute_result"
    }
   ],
   "source": [
    "X_test.head(1).to_numpy()"
   ]
  },
  {
   "cell_type": "code",
   "execution_count": 24,
   "id": "701d22e0",
   "metadata": {},
   "outputs": [
    {
     "ename": "TypeError",
     "evalue": "reduce_dataset() missing 1 required positional argument: 'y'",
     "output_type": "error",
     "traceback": [
      "\u001b[0;31m---------------------------------------------------------------------------\u001b[0m",
      "\u001b[0;31mTypeError\u001b[0m                                 Traceback (most recent call last)",
      "\u001b[0;32m/tmp/ipykernel_19937/4246715072.py\u001b[0m in \u001b[0;36m<module>\u001b[0;34m\u001b[0m\n\u001b[0;32m----> 1\u001b[0;31m \u001b[0mreduced\u001b[0m \u001b[0;34m=\u001b[0m \u001b[0mreduce_dataset\u001b[0m\u001b[0;34m(\u001b[0m\u001b[0mprueba\u001b[0m\u001b[0;34m[\u001b[0m\u001b[0;36m0\u001b[0m\u001b[0;34m]\u001b[0m\u001b[0;34m,\u001b[0m \u001b[0mX\u001b[0m\u001b[0;34m)\u001b[0m\u001b[0;34m\u001b[0m\u001b[0;34m\u001b[0m\u001b[0m\n\u001b[0m",
      "\u001b[0;31mTypeError\u001b[0m: reduce_dataset() missing 1 required positional argument: 'y'"
     ]
    }
   ],
   "source": [
    "reduced = reduce_dataset(prueba[0], X)"
   ]
  },
  {
   "cell_type": "code",
   "execution_count": 25,
   "id": "8df70e4a",
   "metadata": {},
   "outputs": [
    {
     "ename": "NameError",
     "evalue": "name 'reduced' is not defined",
     "output_type": "error",
     "traceback": [
      "\u001b[0;31m---------------------------------------------------------------------------\u001b[0m",
      "\u001b[0;31mNameError\u001b[0m                                 Traceback (most recent call last)",
      "\u001b[0;32m/tmp/ipykernel_19937/53498735.py\u001b[0m in \u001b[0;36m<module>\u001b[0;34m\u001b[0m\n\u001b[0;32m----> 1\u001b[0;31m \u001b[0mreduced\u001b[0m\u001b[0;34m\u001b[0m\u001b[0;34m\u001b[0m\u001b[0m\n\u001b[0m",
      "\u001b[0;31mNameError\u001b[0m: name 'reduced' is not defined"
     ]
    }
   ],
   "source": [
    "reduced"
   ]
  },
  {
   "cell_type": "code",
   "execution_count": 26,
   "id": "c877c29e",
   "metadata": {},
   "outputs": [],
   "source": [
    "def omega(variables, data) :\n",
    "    domains = []\n",
    "    for variable in variables :\n",
    "        domains.append(data[variable].unique())\n",
    "    return [p for p in product(*domains)]\n",
    "    \n",
    "\n",
    "# True if R is relevant\n",
    "# False if R is irrelevant\n",
    "def check_r(instances, set_R, data) : \n",
    "    #Type checking\n",
    "    if isinstance(instances, pd.core.frame.DataFrame) :\n",
    "        instances = instances.to_numpy()\n",
    "    #Array for each instance\n",
    "    out_array = []\n",
    "    # For each instance:\n",
    "    for instance in instances :\n",
    "        # Check which are the missing variables\n",
    "        columns = data.columns\n",
    "        unobserved_vars = []\n",
    "        for i,value in enumerate(instance) :\n",
    "            if not isinstance(value, str) and math.isnan(value) :\n",
    "                unobserved_vars.append(columns[i])\n",
    "        # Check if R in unobserved\n",
    "        #print(unobserved_vars)\n",
    "        for R in set_R :\n",
    "            if R not in unobserved_vars :\n",
    "                print(\"Error\")\n",
    "                return\n",
    "        # Impute and predict the instance\n",
    "        complete_instance = imp.transform([instance])\n",
    "        y = clf.predict(le_X.transform(complete_instance))\n",
    "        # Obtain domain of R\n",
    "        omega_R = omega(set_R, data)\n",
    "        # For each value assignment r in omega(R)\n",
    "        out_array.append(False)\n",
    "        for value_assignment_r in omega_R :\n",
    "            # Fill in values\n",
    "            instance_alt = instance.copy()\n",
    "            for i,value in enumerate(value_assignment_r) :\n",
    "                instance_alt[list(data.columns).index(set_R[i])] = value\n",
    "            #print(instance)\n",
    "            #print(instance_alt)\n",
    "            # Imputar y predecir \n",
    "            complete_instance_alt = imp.transform([instance_alt])\n",
    "            y_alt = clf.predict(le_X.transform(complete_instance_alt))\n",
    "            # Comparar con prediccion de instance\n",
    "            #print(y, \" == \", y_alt)\n",
    "            if y != y_alt :\n",
    "                out_array.pop()\n",
    "                out_array.append(True)\n",
    "                break\n",
    "    return out_array"
   ]
  },
  {
   "cell_type": "code",
   "execution_count": 27,
   "id": "ade1f7aa",
   "metadata": {},
   "outputs": [
    {
     "data": {
      "text/plain": [
       "False"
      ]
     },
     "execution_count": 27,
     "metadata": {},
     "output_type": "execute_result"
    }
   ],
   "source": [
    "np.nan == np.nan"
   ]
  },
  {
   "cell_type": "code",
   "execution_count": 28,
   "id": "82fbe1f7",
   "metadata": {},
   "outputs": [
    {
     "name": "stdout",
     "output_type": "stream",
     "text": [
      "Error\n"
     ]
    }
   ],
   "source": [
    "out = check_r(prueba, X_train.columns[15:20], X_train)\n",
    "out"
   ]
  },
  {
   "cell_type": "code",
   "execution_count": 29,
   "id": "a6301923",
   "metadata": {},
   "outputs": [
    {
     "name": "stdout",
     "output_type": "stream",
     "text": [
      "Error\n",
      "[10, 11, 12] None\n",
      "Error\n",
      "[11, 12, 13] None\n",
      "Error\n",
      "[12, 13, 14] None\n",
      "Error\n",
      "[13, 14, 15] None\n",
      "Error\n",
      "[14, 15, 16] None\n",
      "Error\n",
      "[15, 16, 17] None\n",
      "Error\n",
      "[16, 17, 18] None\n",
      "Error\n",
      "[17, 18, 19] None\n",
      "[18, 19, 20] [True]\n",
      "[19, 20, 21] [True]\n",
      "[20, 21, 22] [True]\n",
      "[21, 22, 23] [True]\n",
      "[22, 23, 24] [False]\n"
     ]
    }
   ],
   "source": [
    "for i in range(10,23) :\n",
    "    print(list(range(i,i+3)),check_r(prueba, X_train.columns[i:i+3], X_train))"
   ]
  },
  {
   "cell_type": "code",
   "execution_count": 30,
   "id": "c9fd8ef2",
   "metadata": {},
   "outputs": [],
   "source": [
    "def check_every_r(instances, data) :\n",
    "    #Type checking\n",
    "    if isinstance(instances, pd.core.frame.DataFrame) :\n",
    "        instances = instances.to_numpy()\n",
    "    #Array for each instance\n",
    "    out_array = []\n",
    "    # For each instance:\n",
    "    for instance in instances :\n",
    "        # Check which are the missing variables\n",
    "        columns = data.columns\n",
    "        unobserved_vars = []\n",
    "        for i,value in enumerate(instance) :\n",
    "            if not isinstance(value, str) and math.isnan(value) :\n",
    "                unobserved_vars.append(columns[i])\n",
    "        S = powerset(unobserved_vars)\n",
    "        S.pop(0)\n",
    "        relevant_sets = []\n",
    "        irrelevant_sets = []\n",
    "        for i in S :\n",
    "            if check_r([instance], list(i), data)[0] :\n",
    "                relevant_sets.append(i)\n",
    "            else :\n",
    "                irrelevant_sets.append(i)\n",
    "        return relevant_sets, irrelevant_sets"
   ]
  },
  {
   "cell_type": "code",
   "execution_count": 31,
   "id": "65e6c65d",
   "metadata": {},
   "outputs": [],
   "source": [
    "def check_every_r_prune(instances, data) :\n",
    "    #Type checking\n",
    "    if isinstance(instances, pd.core.frame.DataFrame) :\n",
    "        instances = instances.to_numpy()\n",
    "    #Array for each instance\n",
    "    out_array = []\n",
    "    # For each instance:\n",
    "    for instance in instances :\n",
    "        # Check which are the missing variables\n",
    "        columns = data.columns\n",
    "        unobserved_vars = []\n",
    "        for i,value in enumerate(instance) :\n",
    "            if not isinstance(value, str) and math.isnan(value) :\n",
    "                unobserved_vars.append(columns[i])\n",
    "        S = powerset(unobserved_vars)\n",
    "        S.pop(0)\n",
    "        # Divide by length\n",
    "        S_split = []\n",
    "        size = 0\n",
    "        for i in S :\n",
    "            if len(i) != size:\n",
    "                size = size + 1\n",
    "                S_split.append([])\n",
    "            S_split[-1].append(i)\n",
    "        relevant_sets = []\n",
    "        irrelevant_sets = []\n",
    "        for i in range(0,len(S_split)) :\n",
    "            for j in S_split[i] :\n",
    "                # If relevant\n",
    "                if check_r([instance], list(j), data)[0] :\n",
    "                    relevant_sets.append(j)\n",
    "                    # Apply prune\n",
    "                    for k in range(i+1,len(S_split)) :\n",
    "                        tmp = []\n",
    "                        for l in S_split[k] :\n",
    "                            if set(j).issubset(set(l)) :\n",
    "                                relevant_sets.append(l)\n",
    "                            else :\n",
    "                                tmp.append(l)\n",
    "                        S_split[k] = tmp\n",
    "                # If irrelevant\n",
    "                else :\n",
    "                    irrelevant_sets.append(j)\n",
    "        return relevant_sets, irrelevant_sets"
   ]
  },
  {
   "cell_type": "code",
   "execution_count": 32,
   "id": "8f2bb84d",
   "metadata": {},
   "outputs": [
    {
     "ename": "KeyboardInterrupt",
     "evalue": "",
     "output_type": "error",
     "traceback": [
      "\u001b[0;31m---------------------------------------------------------------------------\u001b[0m",
      "\u001b[0;31mKeyboardInterrupt\u001b[0m                         Traceback (most recent call last)",
      "\u001b[0;32m/tmp/ipykernel_19937/237664707.py\u001b[0m in \u001b[0;36m<module>\u001b[0;34m\u001b[0m\n\u001b[1;32m      2\u001b[0m \u001b[0mprueba\u001b[0m\u001b[0;34m[\u001b[0m\u001b[0;36m0\u001b[0m\u001b[0;34m]\u001b[0m\u001b[0;34m[\u001b[0m\u001b[0;36m0\u001b[0m\u001b[0;34m:\u001b[0m\u001b[0;36m10\u001b[0m\u001b[0;34m]\u001b[0m \u001b[0;34m=\u001b[0m \u001b[0mnp\u001b[0m\u001b[0;34m.\u001b[0m\u001b[0mnan\u001b[0m\u001b[0;34m\u001b[0m\u001b[0;34m\u001b[0m\u001b[0m\n\u001b[1;32m      3\u001b[0m \u001b[0mt0\u001b[0m \u001b[0;34m=\u001b[0m \u001b[0mtime\u001b[0m\u001b[0;34m.\u001b[0m\u001b[0mtime\u001b[0m\u001b[0;34m(\u001b[0m\u001b[0;34m)\u001b[0m\u001b[0;34m\u001b[0m\u001b[0;34m\u001b[0m\u001b[0m\n\u001b[0;32m----> 4\u001b[0;31m \u001b[0mrelevant_sets\u001b[0m\u001b[0;34m,\u001b[0m \u001b[0mirrelevant_sets\u001b[0m \u001b[0;34m=\u001b[0m \u001b[0mcheck_every_r\u001b[0m\u001b[0;34m(\u001b[0m\u001b[0mprueba\u001b[0m\u001b[0;34m,\u001b[0m \u001b[0mX_train\u001b[0m\u001b[0;34m)\u001b[0m\u001b[0;34m\u001b[0m\u001b[0;34m\u001b[0m\u001b[0m\n\u001b[0m\u001b[1;32m      5\u001b[0m \u001b[0mtf\u001b[0m \u001b[0;34m=\u001b[0m \u001b[0mtime\u001b[0m\u001b[0;34m.\u001b[0m\u001b[0mtime\u001b[0m\u001b[0;34m(\u001b[0m\u001b[0;34m)\u001b[0m\u001b[0;34m\u001b[0m\u001b[0;34m\u001b[0m\u001b[0m\n\u001b[1;32m      6\u001b[0m \u001b[0mprint\u001b[0m\u001b[0;34m(\u001b[0m\u001b[0;34m\"Brute force: \"\u001b[0m\u001b[0;34m,\u001b[0m\u001b[0mtf\u001b[0m\u001b[0;34m-\u001b[0m\u001b[0mt0\u001b[0m\u001b[0;34m)\u001b[0m\u001b[0;34m\u001b[0m\u001b[0;34m\u001b[0m\u001b[0m\n",
      "\u001b[0;32m/tmp/ipykernel_19937/3469830987.py\u001b[0m in \u001b[0;36mcheck_every_r\u001b[0;34m(instances, data)\u001b[0m\n\u001b[1;32m     18\u001b[0m         \u001b[0mirrelevant_sets\u001b[0m \u001b[0;34m=\u001b[0m \u001b[0;34m[\u001b[0m\u001b[0;34m]\u001b[0m\u001b[0;34m\u001b[0m\u001b[0;34m\u001b[0m\u001b[0m\n\u001b[1;32m     19\u001b[0m         \u001b[0;32mfor\u001b[0m \u001b[0mi\u001b[0m \u001b[0;32min\u001b[0m \u001b[0mS\u001b[0m \u001b[0;34m:\u001b[0m\u001b[0;34m\u001b[0m\u001b[0;34m\u001b[0m\u001b[0m\n\u001b[0;32m---> 20\u001b[0;31m             \u001b[0;32mif\u001b[0m \u001b[0mcheck_r\u001b[0m\u001b[0;34m(\u001b[0m\u001b[0;34m[\u001b[0m\u001b[0minstance\u001b[0m\u001b[0;34m]\u001b[0m\u001b[0;34m,\u001b[0m \u001b[0mlist\u001b[0m\u001b[0;34m(\u001b[0m\u001b[0mi\u001b[0m\u001b[0;34m)\u001b[0m\u001b[0;34m,\u001b[0m \u001b[0mdata\u001b[0m\u001b[0;34m)\u001b[0m\u001b[0;34m[\u001b[0m\u001b[0;36m0\u001b[0m\u001b[0;34m]\u001b[0m \u001b[0;34m:\u001b[0m\u001b[0;34m\u001b[0m\u001b[0;34m\u001b[0m\u001b[0m\n\u001b[0m\u001b[1;32m     21\u001b[0m                 \u001b[0mrelevant_sets\u001b[0m\u001b[0;34m.\u001b[0m\u001b[0mappend\u001b[0m\u001b[0;34m(\u001b[0m\u001b[0mi\u001b[0m\u001b[0;34m)\u001b[0m\u001b[0;34m\u001b[0m\u001b[0;34m\u001b[0m\u001b[0m\n\u001b[1;32m     22\u001b[0m             \u001b[0;32melse\u001b[0m \u001b[0;34m:\u001b[0m\u001b[0;34m\u001b[0m\u001b[0;34m\u001b[0m\u001b[0m\n",
      "\u001b[0;32m/tmp/ipykernel_19937/3782619802.py\u001b[0m in \u001b[0;36mcheck_r\u001b[0;34m(instances, set_R, data)\u001b[0m\n\u001b[1;32m     44\u001b[0m             \u001b[0;31m# Imputar y predecir\u001b[0m\u001b[0;34m\u001b[0m\u001b[0;34m\u001b[0m\u001b[0m\n\u001b[1;32m     45\u001b[0m             \u001b[0mcomplete_instance_alt\u001b[0m \u001b[0;34m=\u001b[0m \u001b[0mimp\u001b[0m\u001b[0;34m.\u001b[0m\u001b[0mtransform\u001b[0m\u001b[0;34m(\u001b[0m\u001b[0;34m[\u001b[0m\u001b[0minstance_alt\u001b[0m\u001b[0;34m]\u001b[0m\u001b[0;34m)\u001b[0m\u001b[0;34m\u001b[0m\u001b[0;34m\u001b[0m\u001b[0m\n\u001b[0;32m---> 46\u001b[0;31m             \u001b[0my_alt\u001b[0m \u001b[0;34m=\u001b[0m \u001b[0mclf\u001b[0m\u001b[0;34m.\u001b[0m\u001b[0mpredict\u001b[0m\u001b[0;34m(\u001b[0m\u001b[0mle_X\u001b[0m\u001b[0;34m.\u001b[0m\u001b[0mtransform\u001b[0m\u001b[0;34m(\u001b[0m\u001b[0mcomplete_instance_alt\u001b[0m\u001b[0;34m)\u001b[0m\u001b[0;34m)\u001b[0m\u001b[0;34m\u001b[0m\u001b[0;34m\u001b[0m\u001b[0m\n\u001b[0m\u001b[1;32m     47\u001b[0m             \u001b[0;31m# Comparar con prediccion de instance\u001b[0m\u001b[0;34m\u001b[0m\u001b[0;34m\u001b[0m\u001b[0m\n\u001b[1;32m     48\u001b[0m             \u001b[0;31m#print(y, \" == \", y_alt)\u001b[0m\u001b[0;34m\u001b[0m\u001b[0;34m\u001b[0m\u001b[0m\n",
      "\u001b[0;32m~/anaconda3/lib/python3.9/site-packages/sklearn/preprocessing/_encoders.py\u001b[0m in \u001b[0;36mtransform\u001b[0;34m(self, X)\u001b[0m\n\u001b[1;32m    928\u001b[0m             \u001b[0mTransformed\u001b[0m \u001b[0minput\u001b[0m\u001b[0;34m.\u001b[0m\u001b[0;34m\u001b[0m\u001b[0;34m\u001b[0m\u001b[0m\n\u001b[1;32m    929\u001b[0m         \"\"\"\n\u001b[0;32m--> 930\u001b[0;31m         X_int, X_mask = self._transform(\n\u001b[0m\u001b[1;32m    931\u001b[0m             \u001b[0mX\u001b[0m\u001b[0;34m,\u001b[0m \u001b[0mhandle_unknown\u001b[0m\u001b[0;34m=\u001b[0m\u001b[0mself\u001b[0m\u001b[0;34m.\u001b[0m\u001b[0mhandle_unknown\u001b[0m\u001b[0;34m,\u001b[0m \u001b[0mforce_all_finite\u001b[0m\u001b[0;34m=\u001b[0m\u001b[0;34m\"allow-nan\"\u001b[0m\u001b[0;34m\u001b[0m\u001b[0;34m\u001b[0m\u001b[0m\n\u001b[1;32m    932\u001b[0m         )\n",
      "\u001b[0;32m~/anaconda3/lib/python3.9/site-packages/sklearn/preprocessing/_encoders.py\u001b[0m in \u001b[0;36m_transform\u001b[0;34m(self, X, handle_unknown, force_all_finite, warn_on_unknown)\u001b[0m\n\u001b[1;32m    132\u001b[0m         \u001b[0;32mfor\u001b[0m \u001b[0mi\u001b[0m \u001b[0;32min\u001b[0m \u001b[0mrange\u001b[0m\u001b[0;34m(\u001b[0m\u001b[0mn_features\u001b[0m\u001b[0;34m)\u001b[0m\u001b[0;34m:\u001b[0m\u001b[0;34m\u001b[0m\u001b[0;34m\u001b[0m\u001b[0m\n\u001b[1;32m    133\u001b[0m             \u001b[0mXi\u001b[0m \u001b[0;34m=\u001b[0m \u001b[0mX_list\u001b[0m\u001b[0;34m[\u001b[0m\u001b[0mi\u001b[0m\u001b[0;34m]\u001b[0m\u001b[0;34m\u001b[0m\u001b[0;34m\u001b[0m\u001b[0m\n\u001b[0;32m--> 134\u001b[0;31m             \u001b[0mdiff\u001b[0m\u001b[0;34m,\u001b[0m \u001b[0mvalid_mask\u001b[0m \u001b[0;34m=\u001b[0m \u001b[0m_check_unknown\u001b[0m\u001b[0;34m(\u001b[0m\u001b[0mXi\u001b[0m\u001b[0;34m,\u001b[0m \u001b[0mself\u001b[0m\u001b[0;34m.\u001b[0m\u001b[0mcategories_\u001b[0m\u001b[0;34m[\u001b[0m\u001b[0mi\u001b[0m\u001b[0;34m]\u001b[0m\u001b[0;34m,\u001b[0m \u001b[0mreturn_mask\u001b[0m\u001b[0;34m=\u001b[0m\u001b[0;32mTrue\u001b[0m\u001b[0;34m)\u001b[0m\u001b[0;34m\u001b[0m\u001b[0;34m\u001b[0m\u001b[0m\n\u001b[0m\u001b[1;32m    135\u001b[0m \u001b[0;34m\u001b[0m\u001b[0m\n\u001b[1;32m    136\u001b[0m             \u001b[0;32mif\u001b[0m \u001b[0;32mnot\u001b[0m \u001b[0mnp\u001b[0m\u001b[0;34m.\u001b[0m\u001b[0mall\u001b[0m\u001b[0;34m(\u001b[0m\u001b[0mvalid_mask\u001b[0m\u001b[0;34m)\u001b[0m\u001b[0;34m:\u001b[0m\u001b[0;34m\u001b[0m\u001b[0;34m\u001b[0m\u001b[0m\n",
      "\u001b[0;32m~/anaconda3/lib/python3.9/site-packages/sklearn/utils/_encode.py\u001b[0m in \u001b[0;36m_check_unknown\u001b[0;34m(values, known_values, return_mask)\u001b[0m\n\u001b[1;32m    223\u001b[0m \u001b[0;34m\u001b[0m\u001b[0m\n\u001b[1;32m    224\u001b[0m         \u001b[0muniques_set\u001b[0m \u001b[0;34m=\u001b[0m \u001b[0mset\u001b[0m\u001b[0;34m(\u001b[0m\u001b[0mknown_values\u001b[0m\u001b[0;34m)\u001b[0m\u001b[0;34m\u001b[0m\u001b[0;34m\u001b[0m\u001b[0m\n\u001b[0;32m--> 225\u001b[0;31m         \u001b[0muniques_set\u001b[0m\u001b[0;34m,\u001b[0m \u001b[0mmissing_in_uniques\u001b[0m \u001b[0;34m=\u001b[0m \u001b[0m_extract_missing\u001b[0m\u001b[0;34m(\u001b[0m\u001b[0muniques_set\u001b[0m\u001b[0;34m)\u001b[0m\u001b[0;34m\u001b[0m\u001b[0;34m\u001b[0m\u001b[0m\n\u001b[0m\u001b[1;32m    226\u001b[0m         \u001b[0mdiff\u001b[0m \u001b[0;34m=\u001b[0m \u001b[0mvalues_set\u001b[0m \u001b[0;34m-\u001b[0m \u001b[0muniques_set\u001b[0m\u001b[0;34m\u001b[0m\u001b[0;34m\u001b[0m\u001b[0m\n\u001b[1;32m    227\u001b[0m \u001b[0;34m\u001b[0m\u001b[0m\n",
      "\u001b[0;32m~/anaconda3/lib/python3.9/site-packages/sklearn/utils/_encode.py\u001b[0m in \u001b[0;36m_extract_missing\u001b[0;34m(values)\u001b[0m\n\u001b[1;32m     83\u001b[0m         \u001b[0mObject\u001b[0m \u001b[0;32mwith\u001b[0m \u001b[0mmissing\u001b[0m \u001b[0mvalue\u001b[0m \u001b[0minformation\u001b[0m\u001b[0;34m.\u001b[0m\u001b[0;34m\u001b[0m\u001b[0;34m\u001b[0m\u001b[0m\n\u001b[1;32m     84\u001b[0m     \"\"\"\n\u001b[0;32m---> 85\u001b[0;31m     missing_values_set = {\n\u001b[0m\u001b[1;32m     86\u001b[0m         \u001b[0mvalue\u001b[0m \u001b[0;32mfor\u001b[0m \u001b[0mvalue\u001b[0m \u001b[0;32min\u001b[0m \u001b[0mvalues\u001b[0m \u001b[0;32mif\u001b[0m \u001b[0mvalue\u001b[0m \u001b[0;32mis\u001b[0m \u001b[0;32mNone\u001b[0m \u001b[0;32mor\u001b[0m \u001b[0mis_scalar_nan\u001b[0m\u001b[0;34m(\u001b[0m\u001b[0mvalue\u001b[0m\u001b[0;34m)\u001b[0m\u001b[0;34m\u001b[0m\u001b[0;34m\u001b[0m\u001b[0m\n\u001b[1;32m     87\u001b[0m     }\n",
      "\u001b[0;32m~/anaconda3/lib/python3.9/site-packages/sklearn/utils/_encode.py\u001b[0m in \u001b[0;36m<setcomp>\u001b[0;34m(.0)\u001b[0m\n\u001b[1;32m     84\u001b[0m     \"\"\"\n\u001b[1;32m     85\u001b[0m     missing_values_set = {\n\u001b[0;32m---> 86\u001b[0;31m         \u001b[0mvalue\u001b[0m \u001b[0;32mfor\u001b[0m \u001b[0mvalue\u001b[0m \u001b[0;32min\u001b[0m \u001b[0mvalues\u001b[0m \u001b[0;32mif\u001b[0m \u001b[0mvalue\u001b[0m \u001b[0;32mis\u001b[0m \u001b[0;32mNone\u001b[0m \u001b[0;32mor\u001b[0m \u001b[0mis_scalar_nan\u001b[0m\u001b[0;34m(\u001b[0m\u001b[0mvalue\u001b[0m\u001b[0;34m)\u001b[0m\u001b[0;34m\u001b[0m\u001b[0;34m\u001b[0m\u001b[0m\n\u001b[0m\u001b[1;32m     87\u001b[0m     }\n\u001b[1;32m     88\u001b[0m \u001b[0;34m\u001b[0m\u001b[0m\n",
      "\u001b[0;32m~/anaconda3/lib/python3.9/site-packages/sklearn/utils/__init__.py\u001b[0m in \u001b[0;36mis_scalar_nan\u001b[0;34m(x)\u001b[0m\n\u001b[1;32m   1016\u001b[0m     \u001b[0;32mFalse\u001b[0m\u001b[0;34m\u001b[0m\u001b[0;34m\u001b[0m\u001b[0m\n\u001b[1;32m   1017\u001b[0m     \"\"\"\n\u001b[0;32m-> 1018\u001b[0;31m     \u001b[0;32mreturn\u001b[0m \u001b[0misinstance\u001b[0m\u001b[0;34m(\u001b[0m\u001b[0mx\u001b[0m\u001b[0;34m,\u001b[0m \u001b[0mnumbers\u001b[0m\u001b[0;34m.\u001b[0m\u001b[0mReal\u001b[0m\u001b[0;34m)\u001b[0m \u001b[0;32mand\u001b[0m \u001b[0mmath\u001b[0m\u001b[0;34m.\u001b[0m\u001b[0misnan\u001b[0m\u001b[0;34m(\u001b[0m\u001b[0mx\u001b[0m\u001b[0;34m)\u001b[0m\u001b[0;34m\u001b[0m\u001b[0;34m\u001b[0m\u001b[0m\n\u001b[0m\u001b[1;32m   1019\u001b[0m \u001b[0;34m\u001b[0m\u001b[0m\n\u001b[1;32m   1020\u001b[0m \u001b[0;34m\u001b[0m\u001b[0m\n",
      "\u001b[0;32m~/anaconda3/lib/python3.9/abc.py\u001b[0m in \u001b[0;36m__instancecheck__\u001b[0;34m(cls, instance)\u001b[0m\n\u001b[1;32m    115\u001b[0m             \u001b[0;32mreturn\u001b[0m \u001b[0m_abc_register\u001b[0m\u001b[0;34m(\u001b[0m\u001b[0mcls\u001b[0m\u001b[0;34m,\u001b[0m \u001b[0msubclass\u001b[0m\u001b[0;34m)\u001b[0m\u001b[0;34m\u001b[0m\u001b[0;34m\u001b[0m\u001b[0m\n\u001b[1;32m    116\u001b[0m \u001b[0;34m\u001b[0m\u001b[0m\n\u001b[0;32m--> 117\u001b[0;31m         \u001b[0;32mdef\u001b[0m \u001b[0m__instancecheck__\u001b[0m\u001b[0;34m(\u001b[0m\u001b[0mcls\u001b[0m\u001b[0;34m,\u001b[0m \u001b[0minstance\u001b[0m\u001b[0;34m)\u001b[0m\u001b[0;34m:\u001b[0m\u001b[0;34m\u001b[0m\u001b[0;34m\u001b[0m\u001b[0m\n\u001b[0m\u001b[1;32m    118\u001b[0m             \u001b[0;34m\"\"\"Override for isinstance(instance, cls).\"\"\"\u001b[0m\u001b[0;34m\u001b[0m\u001b[0;34m\u001b[0m\u001b[0m\n\u001b[1;32m    119\u001b[0m             \u001b[0;32mreturn\u001b[0m \u001b[0m_abc_instancecheck\u001b[0m\u001b[0;34m(\u001b[0m\u001b[0mcls\u001b[0m\u001b[0;34m,\u001b[0m \u001b[0minstance\u001b[0m\u001b[0;34m)\u001b[0m\u001b[0;34m\u001b[0m\u001b[0;34m\u001b[0m\u001b[0m\n",
      "\u001b[0;31mKeyboardInterrupt\u001b[0m: "
     ]
    }
   ],
   "source": [
    "prueba = X_test.head(1).to_numpy()\n",
    "prueba[0][0:10] = np.nan\n",
    "t0 = time.time()\n",
    "relevant_sets, irrelevant_sets = check_every_r(prueba, X_train)\n",
    "tf = time.time()\n",
    "print(\"Brute force: \",tf-t0)"
   ]
  },
  {
   "cell_type": "code",
   "execution_count": 37,
   "id": "3b3d1733",
   "metadata": {},
   "outputs": [
    {
     "name": "stdout",
     "output_type": "stream",
     "text": [
      "Prune:  0.9932584762573242\n"
     ]
    }
   ],
   "source": [
    "t0 = time.time()\n",
    "relevant_sets_p, irrelevant_sets_p = check_every_r_prune(prueba, X_train)\n",
    "tf = time.time()\n",
    "print(\"Prune: \",tf-t0)"
   ]
  },
  {
   "cell_type": "code",
   "execution_count": null,
   "id": "1796224b",
   "metadata": {},
   "outputs": [],
   "source": [
    "print(relevant_sets == relevant_sets_p)\n",
    "print(irrelevant_sets == irrelevant_sets_p)"
   ]
  },
  {
   "cell_type": "code",
   "execution_count": 38,
   "id": "479c6004",
   "metadata": {},
   "outputs": [
    {
     "data": {
      "text/plain": [
       "[('OtherCar',),\n",
       " ('Cushioning',),\n",
       " ('Airbag',),\n",
       " ('ILiCost',),\n",
       " ('DrivHist',),\n",
       " ('OtherCar', 'Cushioning'),\n",
       " ('OtherCar', 'Airbag'),\n",
       " ('OtherCar', 'ILiCost'),\n",
       " ('OtherCar', 'DrivHist'),\n",
       " ('Cushioning', 'Airbag'),\n",
       " ('Cushioning', 'ILiCost'),\n",
       " ('Cushioning', 'DrivHist'),\n",
       " ('Airbag', 'ILiCost'),\n",
       " ('Airbag', 'DrivHist'),\n",
       " ('ILiCost', 'DrivHist'),\n",
       " ('OtherCar', 'Cushioning', 'Airbag'),\n",
       " ('OtherCar', 'Cushioning', 'ILiCost'),\n",
       " ('OtherCar', 'Cushioning', 'DrivHist'),\n",
       " ('OtherCar', 'Airbag', 'ILiCost'),\n",
       " ('OtherCar', 'Airbag', 'DrivHist'),\n",
       " ('OtherCar', 'ILiCost', 'DrivHist'),\n",
       " ('Cushioning', 'Airbag', 'ILiCost'),\n",
       " ('Cushioning', 'Airbag', 'DrivHist'),\n",
       " ('Cushioning', 'ILiCost', 'DrivHist'),\n",
       " ('Airbag', 'ILiCost', 'DrivHist'),\n",
       " ('OtherCar', 'Cushioning', 'Airbag', 'ILiCost'),\n",
       " ('OtherCar', 'Cushioning', 'Airbag', 'DrivHist'),\n",
       " ('OtherCar', 'Cushioning', 'ILiCost', 'DrivHist'),\n",
       " ('OtherCar', 'Airbag', 'ILiCost', 'DrivHist'),\n",
       " ('Cushioning', 'Airbag', 'ILiCost', 'DrivHist'),\n",
       " ('OtherCar', 'Cushioning', 'Airbag', 'ILiCost', 'DrivHist')]"
      ]
     },
     "execution_count": 38,
     "metadata": {},
     "output_type": "execute_result"
    }
   ],
   "source": [
    "irrelevant_sets_p"
   ]
  },
  {
   "cell_type": "code",
   "execution_count": 176,
   "id": "db0f3c8d",
   "metadata": {},
   "outputs": [],
   "source": [
    "# TODO FSS\n",
    "X_red, y_red = reduce_dataset(prueba[0], X_train, y_train)"
   ]
  },
  {
   "cell_type": "code",
   "execution_count": 186,
   "id": "f3997fab",
   "metadata": {},
   "outputs": [
    {
     "data": {
      "text/html": [
       "<div>\n",
       "<style scoped>\n",
       "    .dataframe tbody tr th:only-of-type {\n",
       "        vertical-align: middle;\n",
       "    }\n",
       "\n",
       "    .dataframe tbody tr th {\n",
       "        vertical-align: top;\n",
       "    }\n",
       "\n",
       "    .dataframe thead th {\n",
       "        text-align: right;\n",
       "    }\n",
       "</style>\n",
       "<table border=\"1\" class=\"dataframe\">\n",
       "  <thead>\n",
       "    <tr style=\"text-align: right;\">\n",
       "      <th></th>\n",
       "      <th>GoodStudent</th>\n",
       "      <th>Age</th>\n",
       "      <th>SocioEcon</th>\n",
       "      <th>RiskAversion</th>\n",
       "      <th>VehicleYear</th>\n",
       "      <th>ThisCarDam</th>\n",
       "      <th>RuggedAuto</th>\n",
       "      <th>MakeModel</th>\n",
       "      <th>DrivQuality</th>\n",
       "      <th>Mileage</th>\n",
       "    </tr>\n",
       "  </thead>\n",
       "  <tbody>\n",
       "    <tr>\n",
       "      <th>19496</th>\n",
       "      <td>False</td>\n",
       "      <td>Adult</td>\n",
       "      <td>Prole</td>\n",
       "      <td>Adventurous</td>\n",
       "      <td>Older</td>\n",
       "      <td>None</td>\n",
       "      <td>EggShell</td>\n",
       "      <td>Economy</td>\n",
       "      <td>Poor</td>\n",
       "      <td>TwentyThou</td>\n",
       "    </tr>\n",
       "    <tr>\n",
       "      <th>16430</th>\n",
       "      <td>False</td>\n",
       "      <td>Adult</td>\n",
       "      <td>Prole</td>\n",
       "      <td>Adventurous</td>\n",
       "      <td>Older</td>\n",
       "      <td>None</td>\n",
       "      <td>EggShell</td>\n",
       "      <td>Economy</td>\n",
       "      <td>Poor</td>\n",
       "      <td>FiveThou</td>\n",
       "    </tr>\n",
       "    <tr>\n",
       "      <th>16349</th>\n",
       "      <td>False</td>\n",
       "      <td>Adult</td>\n",
       "      <td>Prole</td>\n",
       "      <td>Normal</td>\n",
       "      <td>Older</td>\n",
       "      <td>None</td>\n",
       "      <td>EggShell</td>\n",
       "      <td>SportsCar</td>\n",
       "      <td>Poor</td>\n",
       "      <td>FiftyThou</td>\n",
       "    </tr>\n",
       "    <tr>\n",
       "      <th>19828</th>\n",
       "      <td>False</td>\n",
       "      <td>Senior</td>\n",
       "      <td>Prole</td>\n",
       "      <td>Normal</td>\n",
       "      <td>Older</td>\n",
       "      <td>None</td>\n",
       "      <td>EggShell</td>\n",
       "      <td>Economy</td>\n",
       "      <td>Poor</td>\n",
       "      <td>TwentyThou</td>\n",
       "    </tr>\n",
       "    <tr>\n",
       "      <th>14271</th>\n",
       "      <td>False</td>\n",
       "      <td>Adolescent</td>\n",
       "      <td>Prole</td>\n",
       "      <td>Normal</td>\n",
       "      <td>Older</td>\n",
       "      <td>Mild</td>\n",
       "      <td>EggShell</td>\n",
       "      <td>Economy</td>\n",
       "      <td>Poor</td>\n",
       "      <td>TwentyThou</td>\n",
       "    </tr>\n",
       "    <tr>\n",
       "      <th>2786</th>\n",
       "      <td>False</td>\n",
       "      <td>Adult</td>\n",
       "      <td>Prole</td>\n",
       "      <td>Normal</td>\n",
       "      <td>Older</td>\n",
       "      <td>None</td>\n",
       "      <td>EggShell</td>\n",
       "      <td>Economy</td>\n",
       "      <td>Poor</td>\n",
       "      <td>TwentyThou</td>\n",
       "    </tr>\n",
       "    <tr>\n",
       "      <th>8660</th>\n",
       "      <td>False</td>\n",
       "      <td>Adolescent</td>\n",
       "      <td>Prole</td>\n",
       "      <td>Adventurous</td>\n",
       "      <td>Older</td>\n",
       "      <td>None</td>\n",
       "      <td>EggShell</td>\n",
       "      <td>Economy</td>\n",
       "      <td>Poor</td>\n",
       "      <td>TwentyThou</td>\n",
       "    </tr>\n",
       "    <tr>\n",
       "      <th>3439</th>\n",
       "      <td>False</td>\n",
       "      <td>Adult</td>\n",
       "      <td>Prole</td>\n",
       "      <td>Normal</td>\n",
       "      <td>Older</td>\n",
       "      <td>None</td>\n",
       "      <td>EggShell</td>\n",
       "      <td>Economy</td>\n",
       "      <td>Poor</td>\n",
       "      <td>Domino</td>\n",
       "    </tr>\n",
       "    <tr>\n",
       "      <th>1728</th>\n",
       "      <td>False</td>\n",
       "      <td>Adolescent</td>\n",
       "      <td>Prole</td>\n",
       "      <td>Normal</td>\n",
       "      <td>Older</td>\n",
       "      <td>None</td>\n",
       "      <td>EggShell</td>\n",
       "      <td>Economy</td>\n",
       "      <td>Poor</td>\n",
       "      <td>TwentyThou</td>\n",
       "    </tr>\n",
       "    <tr>\n",
       "      <th>19518</th>\n",
       "      <td>False</td>\n",
       "      <td>Adult</td>\n",
       "      <td>Prole</td>\n",
       "      <td>Adventurous</td>\n",
       "      <td>Older</td>\n",
       "      <td>None</td>\n",
       "      <td>EggShell</td>\n",
       "      <td>SportsCar</td>\n",
       "      <td>Poor</td>\n",
       "      <td>FiftyThou</td>\n",
       "    </tr>\n",
       "    <tr>\n",
       "      <th>14077</th>\n",
       "      <td>False</td>\n",
       "      <td>Adolescent</td>\n",
       "      <td>Prole</td>\n",
       "      <td>Adventurous</td>\n",
       "      <td>Older</td>\n",
       "      <td>Mild</td>\n",
       "      <td>EggShell</td>\n",
       "      <td>Economy</td>\n",
       "      <td>Poor</td>\n",
       "      <td>FiftyThou</td>\n",
       "    </tr>\n",
       "    <tr>\n",
       "      <th>12976</th>\n",
       "      <td>False</td>\n",
       "      <td>Adolescent</td>\n",
       "      <td>Prole</td>\n",
       "      <td>Normal</td>\n",
       "      <td>Older</td>\n",
       "      <td>Mild</td>\n",
       "      <td>EggShell</td>\n",
       "      <td>Economy</td>\n",
       "      <td>Poor</td>\n",
       "      <td>FiftyThou</td>\n",
       "    </tr>\n",
       "    <tr>\n",
       "      <th>1424</th>\n",
       "      <td>False</td>\n",
       "      <td>Adult</td>\n",
       "      <td>Prole</td>\n",
       "      <td>Normal</td>\n",
       "      <td>Older</td>\n",
       "      <td>None</td>\n",
       "      <td>EggShell</td>\n",
       "      <td>Economy</td>\n",
       "      <td>Poor</td>\n",
       "      <td>TwentyThou</td>\n",
       "    </tr>\n",
       "    <tr>\n",
       "      <th>2926</th>\n",
       "      <td>False</td>\n",
       "      <td>Adult</td>\n",
       "      <td>Prole</td>\n",
       "      <td>Adventurous</td>\n",
       "      <td>Older</td>\n",
       "      <td>None</td>\n",
       "      <td>Football</td>\n",
       "      <td>FamilySedan</td>\n",
       "      <td>Poor</td>\n",
       "      <td>TwentyThou</td>\n",
       "    </tr>\n",
       "    <tr>\n",
       "      <th>16195</th>\n",
       "      <td>False</td>\n",
       "      <td>Adolescent</td>\n",
       "      <td>Prole</td>\n",
       "      <td>Adventurous</td>\n",
       "      <td>Older</td>\n",
       "      <td>None</td>\n",
       "      <td>EggShell</td>\n",
       "      <td>Economy</td>\n",
       "      <td>Poor</td>\n",
       "      <td>TwentyThou</td>\n",
       "    </tr>\n",
       "    <tr>\n",
       "      <th>8651</th>\n",
       "      <td>False</td>\n",
       "      <td>Adult</td>\n",
       "      <td>Prole</td>\n",
       "      <td>Adventurous</td>\n",
       "      <td>Older</td>\n",
       "      <td>Mild</td>\n",
       "      <td>EggShell</td>\n",
       "      <td>Economy</td>\n",
       "      <td>Poor</td>\n",
       "      <td>FiftyThou</td>\n",
       "    </tr>\n",
       "    <tr>\n",
       "      <th>12381</th>\n",
       "      <td>False</td>\n",
       "      <td>Adult</td>\n",
       "      <td>Prole</td>\n",
       "      <td>Normal</td>\n",
       "      <td>Older</td>\n",
       "      <td>Mild</td>\n",
       "      <td>EggShell</td>\n",
       "      <td>Economy</td>\n",
       "      <td>Poor</td>\n",
       "      <td>Domino</td>\n",
       "    </tr>\n",
       "    <tr>\n",
       "      <th>68</th>\n",
       "      <td>False</td>\n",
       "      <td>Adult</td>\n",
       "      <td>Prole</td>\n",
       "      <td>Normal</td>\n",
       "      <td>Older</td>\n",
       "      <td>Mild</td>\n",
       "      <td>EggShell</td>\n",
       "      <td>Economy</td>\n",
       "      <td>Poor</td>\n",
       "      <td>Domino</td>\n",
       "    </tr>\n",
       "    <tr>\n",
       "      <th>15771</th>\n",
       "      <td>False</td>\n",
       "      <td>Senior</td>\n",
       "      <td>Prole</td>\n",
       "      <td>Adventurous</td>\n",
       "      <td>Older</td>\n",
       "      <td>None</td>\n",
       "      <td>EggShell</td>\n",
       "      <td>Economy</td>\n",
       "      <td>Poor</td>\n",
       "      <td>TwentyThou</td>\n",
       "    </tr>\n",
       "    <tr>\n",
       "      <th>16763</th>\n",
       "      <td>False</td>\n",
       "      <td>Adult</td>\n",
       "      <td>Prole</td>\n",
       "      <td>Normal</td>\n",
       "      <td>Older</td>\n",
       "      <td>Mild</td>\n",
       "      <td>EggShell</td>\n",
       "      <td>Economy</td>\n",
       "      <td>Poor</td>\n",
       "      <td>TwentyThou</td>\n",
       "    </tr>\n",
       "    <tr>\n",
       "      <th>2773</th>\n",
       "      <td>False</td>\n",
       "      <td>Adolescent</td>\n",
       "      <td>Prole</td>\n",
       "      <td>Adventurous</td>\n",
       "      <td>Older</td>\n",
       "      <td>Mild</td>\n",
       "      <td>EggShell</td>\n",
       "      <td>Economy</td>\n",
       "      <td>Poor</td>\n",
       "      <td>Domino</td>\n",
       "    </tr>\n",
       "  </tbody>\n",
       "</table>\n",
       "</div>"
      ],
      "text/plain": [
       "       GoodStudent         Age SocioEcon RiskAversion VehicleYear ThisCarDam  \\\n",
       "19496        False       Adult     Prole  Adventurous       Older       None   \n",
       "16430        False       Adult     Prole  Adventurous       Older       None   \n",
       "16349        False       Adult     Prole       Normal       Older       None   \n",
       "19828        False      Senior     Prole       Normal       Older       None   \n",
       "14271        False  Adolescent     Prole       Normal       Older       Mild   \n",
       "2786         False       Adult     Prole       Normal       Older       None   \n",
       "8660         False  Adolescent     Prole  Adventurous       Older       None   \n",
       "3439         False       Adult     Prole       Normal       Older       None   \n",
       "1728         False  Adolescent     Prole       Normal       Older       None   \n",
       "19518        False       Adult     Prole  Adventurous       Older       None   \n",
       "14077        False  Adolescent     Prole  Adventurous       Older       Mild   \n",
       "12976        False  Adolescent     Prole       Normal       Older       Mild   \n",
       "1424         False       Adult     Prole       Normal       Older       None   \n",
       "2926         False       Adult     Prole  Adventurous       Older       None   \n",
       "16195        False  Adolescent     Prole  Adventurous       Older       None   \n",
       "8651         False       Adult     Prole  Adventurous       Older       Mild   \n",
       "12381        False       Adult     Prole       Normal       Older       Mild   \n",
       "68           False       Adult     Prole       Normal       Older       Mild   \n",
       "15771        False      Senior     Prole  Adventurous       Older       None   \n",
       "16763        False       Adult     Prole       Normal       Older       Mild   \n",
       "2773         False  Adolescent     Prole  Adventurous       Older       Mild   \n",
       "\n",
       "      RuggedAuto    MakeModel DrivQuality     Mileage  \n",
       "19496   EggShell      Economy        Poor  TwentyThou  \n",
       "16430   EggShell      Economy        Poor    FiveThou  \n",
       "16349   EggShell    SportsCar        Poor   FiftyThou  \n",
       "19828   EggShell      Economy        Poor  TwentyThou  \n",
       "14271   EggShell      Economy        Poor  TwentyThou  \n",
       "2786    EggShell      Economy        Poor  TwentyThou  \n",
       "8660    EggShell      Economy        Poor  TwentyThou  \n",
       "3439    EggShell      Economy        Poor      Domino  \n",
       "1728    EggShell      Economy        Poor  TwentyThou  \n",
       "19518   EggShell    SportsCar        Poor   FiftyThou  \n",
       "14077   EggShell      Economy        Poor   FiftyThou  \n",
       "12976   EggShell      Economy        Poor   FiftyThou  \n",
       "1424    EggShell      Economy        Poor  TwentyThou  \n",
       "2926    Football  FamilySedan        Poor  TwentyThou  \n",
       "16195   EggShell      Economy        Poor  TwentyThou  \n",
       "8651    EggShell      Economy        Poor   FiftyThou  \n",
       "12381   EggShell      Economy        Poor      Domino  \n",
       "68      EggShell      Economy        Poor      Domino  \n",
       "15771   EggShell      Economy        Poor  TwentyThou  \n",
       "16763   EggShell      Economy        Poor  TwentyThou  \n",
       "2773    EggShell      Economy        Poor      Domino  "
      ]
     },
     "execution_count": 186,
     "metadata": {},
     "output_type": "execute_result"
    }
   ],
   "source": [
    "X_red"
   ]
  },
  {
   "cell_type": "code",
   "execution_count": null,
   "id": "5ebdc03b",
   "metadata": {},
   "outputs": [],
   "source": [
    "y_red"
   ]
  },
  {
   "cell_type": "code",
   "execution_count": 188,
   "id": "500d592c",
   "metadata": {},
   "outputs": [
    {
     "data": {
      "text/plain": [
       "array([False, False, False, False, False,  True, False, False, False,\n",
       "       False])"
      ]
     },
     "execution_count": 188,
     "metadata": {},
     "output_type": "execute_result"
    }
   ],
   "source": [
    "#sel = feature_selection.GenericUnivariateSelect()\n",
    "oe = preprocessing.OrdinalEncoder()\n",
    "sel = feature_selection.RFECV(svm.SVC(kernel=\"linear\"))\n",
    "sel.fit_transform(oe.fit_transform(X_red),y_red)\n",
    "sel.support_"
   ]
  },
  {
   "cell_type": "code",
   "execution_count": 189,
   "id": "f473d96a",
   "metadata": {},
   "outputs": [
    {
     "name": "stdout",
     "output_type": "stream",
     "text": [
      "Index(['GoodStudent', 'Age', 'SocioEcon', 'RiskAversion', 'VehicleYear',\n",
      "       'RuggedAuto', 'MakeModel', 'DrivQuality', 'Mileage'],\n",
      "      dtype='object')\n"
     ]
    }
   ],
   "source": [
    "print(X_red.columns[sel.support_ == False])"
   ]
  },
  {
   "cell_type": "code",
   "execution_count": 190,
   "id": "a0a2e89d",
   "metadata": {},
   "outputs": [
    {
     "data": {
      "text/plain": [
       "array([0.        , 0.        , 0.        , 0.        , 0.14641003,\n",
       "       0.68894937, 0.        , 0.        , 0.        , 0.13133067])"
      ]
     },
     "execution_count": 190,
     "metadata": {},
     "output_type": "execute_result"
    }
   ],
   "source": [
    "feature_selection.mutual_info_classif(oe.fit_transform(X_red),y_red)"
   ]
  },
  {
   "cell_type": "code",
   "execution_count": 200,
   "id": "3ce3fae8",
   "metadata": {},
   "outputs": [
    {
     "data": {
      "text/plain": [
       "array([False, False, False, False, False,  True, False, False, False,\n",
       "       False])"
      ]
     },
     "execution_count": 200,
     "metadata": {},
     "output_type": "execute_result"
    }
   ],
   "source": [
    "sel = feature_selection.GenericUnivariateSelect(feature_selection.chi2)\n",
    "X_new = sel.fit_transform(oe.fit_transform(X_red),y_red)\n",
    "sel.get_support()"
   ]
  },
  {
   "cell_type": "code",
   "execution_count": null,
   "id": "3c8d48a4",
   "metadata": {},
   "outputs": [],
   "source": []
  }
 ],
 "metadata": {
  "kernelspec": {
   "display_name": "Python 3 (ipykernel)",
   "language": "python",
   "name": "python3"
  },
  "language_info": {
   "codemirror_mode": {
    "name": "ipython",
    "version": 3
   },
   "file_extension": ".py",
   "mimetype": "text/x-python",
   "name": "python",
   "nbconvert_exporter": "python",
   "pygments_lexer": "ipython3",
   "version": "3.8.15"
  }
 },
 "nbformat": 4,
 "nbformat_minor": 5
}
